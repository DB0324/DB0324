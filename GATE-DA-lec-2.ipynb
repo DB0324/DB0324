{
  "nbformat": 4,
  "nbformat_minor": 0,
  "metadata": {
    "colab": {
      "provenance": [],
      "include_colab_link": true
    },
    "kernelspec": {
      "name": "python3",
      "display_name": "Python 3"
    },
    "language_info": {
      "name": "python"
    }
  },
  "cells": [
    {
      "cell_type": "markdown",
      "metadata": {
        "id": "view-in-github",
        "colab_type": "text"
      },
      "source": [
        "<a href=\"https://colab.research.google.com/github/DB0324/DB0324/blob/main/GATE-DA-lec-2.ipynb\" target=\"_parent\"><img src=\"https://colab.research.google.com/assets/colab-badge.svg\" alt=\"Open In Colab\"/></a>"
      ]
    },
    {
      "cell_type": "code",
      "execution_count": 1,
      "metadata": {
        "id": "rapu680gW9pQ",
        "colab": {
          "base_uri": "https://localhost:8080/"
        },
        "outputId": "724d8a5b-4d7f-44d5-fd52-ca16e3c55055"
      },
      "outputs": [
        {
          "output_type": "stream",
          "name": "stdout",
          "text": [
            "hey---there\n"
          ]
        }
      ],
      "source": [
        "print(\"hey\",\"there\", sep=\"---\")\n"
      ]
    },
    {
      "cell_type": "code",
      "source": [
        "print(\"htret\",\"SRGRG\",\"sdf\",end=\"#ejncj\",sep=\"646\")\n",
        "print(\"ZSFG\",\"asdt\")"
      ],
      "metadata": {
        "colab": {
          "base_uri": "https://localhost:8080/"
        },
        "id": "3gqNutLIq69C",
        "outputId": "38823db3-bd85-4994-bd28-41ee935a1c3f"
      },
      "execution_count": 4,
      "outputs": [
        {
          "output_type": "stream",
          "name": "stdout",
          "text": [
            "htret646SRGRG646sdf#ejncjZSFG asdt\n"
          ]
        }
      ]
    },
    {
      "cell_type": "markdown",
      "source": [
        "using semicolon"
      ],
      "metadata": {
        "id": "_nxbe7sKrfgX"
      }
    },
    {
      "cell_type": "code",
      "source": [
        "print(\"asdcx\");\n",
        "print(\"ksn kn\")"
      ],
      "metadata": {
        "colab": {
          "base_uri": "https://localhost:8080/"
        },
        "id": "RAXh4FLIrkQN",
        "outputId": "474b19b8-3648-41c3-e817-0a5ec51bf056"
      },
      "execution_count": 5,
      "outputs": [
        {
          "output_type": "stream",
          "name": "stdout",
          "text": [
            "asdcx\n",
            "ksn kn\n"
          ]
        }
      ]
    },
    {
      "cell_type": "code",
      "source": [
        "print(\"asdcx\") print(\"ksn kn\")"
      ],
      "metadata": {
        "colab": {
          "base_uri": "https://localhost:8080/",
          "height": 106
        },
        "id": "Vpf1oEoorqPZ",
        "outputId": "7de3c0d3-0ccf-4986-ab5d-e0c5dc3f93ad"
      },
      "execution_count": 6,
      "outputs": [
        {
          "output_type": "error",
          "ename": "SyntaxError",
          "evalue": "invalid syntax (<ipython-input-6-a4ef8ac9197a>, line 1)",
          "traceback": [
            "\u001b[0;36m  File \u001b[0;32m\"<ipython-input-6-a4ef8ac9197a>\"\u001b[0;36m, line \u001b[0;32m1\u001b[0m\n\u001b[0;31m    print(\"asdcx\") print(\"ksn kn\")\u001b[0m\n\u001b[0m                   ^\u001b[0m\n\u001b[0;31mSyntaxError\u001b[0m\u001b[0;31m:\u001b[0m invalid syntax\n"
          ]
        }
      ]
    },
    {
      "cell_type": "code",
      "source": [
        "print(\"asdcx\");  print(\"ksn kn\")"
      ],
      "metadata": {
        "colab": {
          "base_uri": "https://localhost:8080/"
        },
        "id": "UDBsTHLAr4SO",
        "outputId": "4c5ef9c6-1ebe-4dd7-f5ef-287fa19a18bc"
      },
      "execution_count": 7,
      "outputs": [
        {
          "output_type": "stream",
          "name": "stdout",
          "text": [
            "asdcx\n",
            "ksn kn\n"
          ]
        }
      ]
    }
  ]
}