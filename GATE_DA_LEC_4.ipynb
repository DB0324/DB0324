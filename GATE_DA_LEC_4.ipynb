{
  "nbformat": 4,
  "nbformat_minor": 0,
  "metadata": {
    "colab": {
      "provenance": [],
      "authorship_tag": "ABX9TyPYwbSs8mGMpUWiO78C9Cga",
      "include_colab_link": true
    },
    "kernelspec": {
      "name": "python3",
      "display_name": "Python 3"
    },
    "language_info": {
      "name": "python"
    }
  },
  "cells": [
    {
      "cell_type": "markdown",
      "metadata": {
        "id": "view-in-github",
        "colab_type": "text"
      },
      "source": [
        "<a href=\"https://colab.research.google.com/github/DB0324/DB0324/blob/main/GATE_DA_LEC_4.ipynb\" target=\"_parent\"><img src=\"https://colab.research.google.com/assets/colab-badge.svg\" alt=\"Open In Colab\"/></a>"
      ]
    },
    {
      "cell_type": "markdown",
      "source": [
        "# **TYPE CASTING**"
      ],
      "metadata": {
        "id": "UdA05fISHxSE"
      }
    },
    {
      "cell_type": "code",
      "execution_count": 1,
      "metadata": {
        "colab": {
          "base_uri": "https://localhost:8080/"
        },
        "id": "zrQLqsR-GUi4",
        "outputId": "0c2587ce-fb27-451c-906e-f9e2d8d045c1"
      },
      "outputs": [
        {
          "output_type": "stream",
          "name": "stdout",
          "text": [
            "10.0\n",
            "<class 'float'>\n"
          ]
        }
      ],
      "source": [
        "# implicit type conversion--> automatically change of data type without involving user\n",
        "a=7\n",
        "b=3.0\n",
        "c=a+b\n",
        "print(c)\n",
        "print(type(c))"
      ]
    },
    {
      "cell_type": "code",
      "source": [
        "# explicit type conversion\n",
        "a=7\n",
        "b=3.0\n",
        "c=int(a+b)  # changing data type through user\n",
        "print(c)\n",
        "print(type(c))"
      ],
      "metadata": {
        "colab": {
          "base_uri": "https://localhost:8080/"
        },
        "id": "0flGcuWuIhBR",
        "outputId": "4e646ba1-24f6-423f-ecfa-233be4355ef4"
      },
      "execution_count": 2,
      "outputs": [
        {
          "output_type": "stream",
          "name": "stdout",
          "text": [
            "10\n",
            "<class 'int'>\n"
          ]
        }
      ]
    },
    {
      "cell_type": "code",
      "source": [
        "#  int()\n",
        "a=43.4\n",
        "b=\"4.4\"\n",
        "c=\"3\"\n",
        "d=\"der\"\n",
        "i_a=int(a)\n",
        "print(i_a)\n",
        "i_b=int(b)\n",
        "print(i_b)\n",
        "i_c=int(c)\n",
        "print(i_c)\n",
        "i_d=int(d)\n",
        "print(i_d)\n",
        "# can not have floating point inside string to get int() output"
      ],
      "metadata": {
        "colab": {
          "base_uri": "https://localhost:8080/",
          "height": 228
        },
        "id": "9WPA-RV-I1u9",
        "outputId": "5d9081c4-d49d-4ec6-fc84-5e97594d4953"
      },
      "execution_count": 4,
      "outputs": [
        {
          "output_type": "stream",
          "name": "stdout",
          "text": [
            "43\n"
          ]
        },
        {
          "output_type": "error",
          "ename": "ValueError",
          "evalue": "invalid literal for int() with base 10: '4.4'",
          "traceback": [
            "\u001b[0;31m---------------------------------------------------------------------------\u001b[0m",
            "\u001b[0;31mValueError\u001b[0m                                Traceback (most recent call last)",
            "\u001b[0;32m<ipython-input-4-edce8e2a168c>\u001b[0m in \u001b[0;36m<cell line: 8>\u001b[0;34m()\u001b[0m\n\u001b[1;32m      6\u001b[0m \u001b[0mi_a\u001b[0m\u001b[0;34m=\u001b[0m\u001b[0mint\u001b[0m\u001b[0;34m(\u001b[0m\u001b[0ma\u001b[0m\u001b[0;34m)\u001b[0m\u001b[0;34m\u001b[0m\u001b[0;34m\u001b[0m\u001b[0m\n\u001b[1;32m      7\u001b[0m \u001b[0mprint\u001b[0m\u001b[0;34m(\u001b[0m\u001b[0mi_a\u001b[0m\u001b[0;34m)\u001b[0m\u001b[0;34m\u001b[0m\u001b[0;34m\u001b[0m\u001b[0m\n\u001b[0;32m----> 8\u001b[0;31m \u001b[0mi_b\u001b[0m\u001b[0;34m=\u001b[0m\u001b[0mint\u001b[0m\u001b[0;34m(\u001b[0m\u001b[0mb\u001b[0m\u001b[0;34m)\u001b[0m\u001b[0;34m\u001b[0m\u001b[0;34m\u001b[0m\u001b[0m\n\u001b[0m\u001b[1;32m      9\u001b[0m \u001b[0mprint\u001b[0m\u001b[0;34m(\u001b[0m\u001b[0mi_b\u001b[0m\u001b[0;34m)\u001b[0m\u001b[0;34m\u001b[0m\u001b[0;34m\u001b[0m\u001b[0m\n\u001b[1;32m     10\u001b[0m \u001b[0mi_c\u001b[0m\u001b[0;34m=\u001b[0m\u001b[0mint\u001b[0m\u001b[0;34m(\u001b[0m\u001b[0mc\u001b[0m\u001b[0;34m)\u001b[0m\u001b[0;34m\u001b[0m\u001b[0;34m\u001b[0m\u001b[0m\n",
            "\u001b[0;31mValueError\u001b[0m: invalid literal for int() with base 10: '4.4'"
          ]
        }
      ]
    },
    {
      "cell_type": "code",
      "source": [
        "#  int()\n",
        "a=43.4\n",
        "b=\"4.4\"\n",
        "c=\"3\"\n",
        "d=\"der\"\n",
        "i_a=int(a)\n",
        "print(i_a)\n",
        "# i_b=int(b)\n",
        "# print(i_b)\n",
        "i_c=int(c)\n",
        "print(i_c)\n",
        "i_d=int(d)\n",
        "print(i_d)\n",
        "#  can not have string in string to get int() output"
      ],
      "metadata": {
        "colab": {
          "base_uri": "https://localhost:8080/",
          "height": 228
        },
        "id": "APLA996oKWin",
        "outputId": "7f9c030f-c474-4154-9cff-79266d3a3f7a"
      },
      "execution_count": 6,
      "outputs": [
        {
          "output_type": "stream",
          "name": "stdout",
          "text": [
            "43\n",
            "3\n"
          ]
        },
        {
          "output_type": "error",
          "ename": "ValueError",
          "evalue": "invalid literal for int() with base 10: 'der'",
          "traceback": [
            "\u001b[0;31m---------------------------------------------------------------------------\u001b[0m",
            "\u001b[0;31mValueError\u001b[0m                                Traceback (most recent call last)",
            "\u001b[0;32m<ipython-input-6-81dcd8f8195a>\u001b[0m in \u001b[0;36m<cell line: 12>\u001b[0;34m()\u001b[0m\n\u001b[1;32m     10\u001b[0m \u001b[0mi_c\u001b[0m\u001b[0;34m=\u001b[0m\u001b[0mint\u001b[0m\u001b[0;34m(\u001b[0m\u001b[0mc\u001b[0m\u001b[0;34m)\u001b[0m\u001b[0;34m\u001b[0m\u001b[0;34m\u001b[0m\u001b[0m\n\u001b[1;32m     11\u001b[0m \u001b[0mprint\u001b[0m\u001b[0;34m(\u001b[0m\u001b[0mi_c\u001b[0m\u001b[0;34m)\u001b[0m\u001b[0;34m\u001b[0m\u001b[0;34m\u001b[0m\u001b[0m\n\u001b[0;32m---> 12\u001b[0;31m \u001b[0mi_d\u001b[0m\u001b[0;34m=\u001b[0m\u001b[0mint\u001b[0m\u001b[0;34m(\u001b[0m\u001b[0md\u001b[0m\u001b[0;34m)\u001b[0m\u001b[0;34m\u001b[0m\u001b[0;34m\u001b[0m\u001b[0m\n\u001b[0m\u001b[1;32m     13\u001b[0m \u001b[0mprint\u001b[0m\u001b[0;34m(\u001b[0m\u001b[0mi_d\u001b[0m\u001b[0;34m)\u001b[0m\u001b[0;34m\u001b[0m\u001b[0;34m\u001b[0m\u001b[0m\n",
            "\u001b[0;31mValueError\u001b[0m: invalid literal for int() with base 10: 'der'"
          ]
        }
      ]
    },
    {
      "cell_type": "code",
      "source": [
        "#  int()\n",
        "a=43.4\n",
        "b=\"4.4\"\n",
        "c=\"3\"\n",
        "d=\"der\"\n",
        "i_a=int(a)\n",
        "print(i_a)\n",
        "# i_b=int(b)\n",
        "# print(i_b)\n",
        "i_c=int(c)\n",
        "print(i_c)\n",
        "# i_d=int(d)\n",
        "# print(i_d)"
      ],
      "metadata": {
        "colab": {
          "base_uri": "https://localhost:8080/"
        },
        "id": "fcOWnEkdKsDi",
        "outputId": "2f3448cd-17ad-4ee4-dec1-ed2be6a2ddbd"
      },
      "execution_count": 7,
      "outputs": [
        {
          "output_type": "stream",
          "name": "stdout",
          "text": [
            "43\n",
            "3\n"
          ]
        }
      ]
    },
    {
      "cell_type": "code",
      "source": [
        "# float()\n",
        "a=43\n",
        "b=\"4.4\"\n",
        "c=\"3\"\n",
        "d=\"der\"\n",
        "f_a=float(a)\n",
        "print(f_a)\n",
        "f_b=float(b)\n",
        "print(f_b)\n",
        "f_c=float(c)\n",
        "print(f_c)\n",
        "f_d=float(d)\n",
        "print(f_d)\n",
        "# only sting in string does not work with float()"
      ],
      "metadata": {
        "colab": {
          "base_uri": "https://localhost:8080/",
          "height": 245
        },
        "id": "MrNNtfqhKzi-",
        "outputId": "c8b8e161-c106-4483-9217-5a05870e472f"
      },
      "execution_count": 8,
      "outputs": [
        {
          "output_type": "stream",
          "name": "stdout",
          "text": [
            "43.0\n",
            "4.4\n",
            "3.0\n"
          ]
        },
        {
          "output_type": "error",
          "ename": "ValueError",
          "evalue": "could not convert string to float: 'der'",
          "traceback": [
            "\u001b[0;31m---------------------------------------------------------------------------\u001b[0m",
            "\u001b[0;31mValueError\u001b[0m                                Traceback (most recent call last)",
            "\u001b[0;32m<ipython-input-8-7492e31f9c4c>\u001b[0m in \u001b[0;36m<cell line: 12>\u001b[0;34m()\u001b[0m\n\u001b[1;32m     10\u001b[0m \u001b[0mf_c\u001b[0m\u001b[0;34m=\u001b[0m\u001b[0mfloat\u001b[0m\u001b[0;34m(\u001b[0m\u001b[0mc\u001b[0m\u001b[0;34m)\u001b[0m\u001b[0;34m\u001b[0m\u001b[0;34m\u001b[0m\u001b[0m\n\u001b[1;32m     11\u001b[0m \u001b[0mprint\u001b[0m\u001b[0;34m(\u001b[0m\u001b[0mf_c\u001b[0m\u001b[0;34m)\u001b[0m\u001b[0;34m\u001b[0m\u001b[0;34m\u001b[0m\u001b[0m\n\u001b[0;32m---> 12\u001b[0;31m \u001b[0mf_d\u001b[0m\u001b[0;34m=\u001b[0m\u001b[0mfloat\u001b[0m\u001b[0;34m(\u001b[0m\u001b[0md\u001b[0m\u001b[0;34m)\u001b[0m\u001b[0;34m\u001b[0m\u001b[0;34m\u001b[0m\u001b[0m\n\u001b[0m\u001b[1;32m     13\u001b[0m \u001b[0mprint\u001b[0m\u001b[0;34m(\u001b[0m\u001b[0mf_d\u001b[0m\u001b[0;34m)\u001b[0m\u001b[0;34m\u001b[0m\u001b[0;34m\u001b[0m\u001b[0m\n",
            "\u001b[0;31mValueError\u001b[0m: could not convert string to float: 'der'"
          ]
        }
      ]
    },
    {
      "cell_type": "code",
      "source": [
        "# string\n",
        "a=500\n",
        "b=4.5\n",
        "s_a=str(a)\n",
        "print(s_a)\n",
        "s_b=str(b)\n",
        "print(s_b)\n",
        ""
      ],
      "metadata": {
        "colab": {
          "base_uri": "https://localhost:8080/"
        },
        "id": "BCIDVa4vLiZJ",
        "outputId": "d9cae7bc-e43a-4f3d-922c-128230e8eec0"
      },
      "execution_count": 10,
      "outputs": [
        {
          "output_type": "stream",
          "name": "stdout",
          "text": [
            "500\n",
            "4.5\n"
          ]
        }
      ]
    },
    {
      "cell_type": "markdown",
      "source": [
        "# **OPERATORS**"
      ],
      "metadata": {
        "id": "vqROzu1TP4qX"
      }
    },
    {
      "cell_type": "markdown",
      "source": [
        "**ARITHMETIC OPERATORS**\n",
        "\n"
      ],
      "metadata": {
        "id": "TOB2xp_IQDld"
      }
    },
    {
      "cell_type": "code",
      "source": [
        "a=20\n",
        "b=10\n",
        "print(\"a+b:\",a+b)\n",
        "print(\"a-b:\",a-b)\n",
        "print(\"a*b:\",a*b)\n",
        "print(\"a/b:\",a/b)\n",
        "print(\"a%b:\",a%b)\n",
        "print(\"a//b:\",a//b)\n",
        "print(\"a**b:\",a**b)"
      ],
      "metadata": {
        "colab": {
          "base_uri": "https://localhost:8080/"
        },
        "id": "7LJI3NniQS-6",
        "outputId": "a30f2d16-39fe-4c31-dbb6-cadbd003711c"
      },
      "execution_count": 11,
      "outputs": [
        {
          "output_type": "stream",
          "name": "stdout",
          "text": [
            "a+b: 30\n",
            "a-b: 10\n",
            "a*b: 200\n",
            "a/b: 2.0\n",
            "a%b: 0\n",
            "a//b: 2\n",
            "a**b: 10240000000000\n"
          ]
        }
      ]
    },
    {
      "cell_type": "code",
      "source": [
        " -7//2\n",
        "#  floor division"
      ],
      "metadata": {
        "colab": {
          "base_uri": "https://localhost:8080/"
        },
        "id": "-czzAwR0QN3k",
        "outputId": "10d53900-d85e-4f61-a970-b4772b7421fb"
      },
      "execution_count": 12,
      "outputs": [
        {
          "output_type": "execute_result",
          "data": {
            "text/plain": [
              "-4"
            ]
          },
          "metadata": {},
          "execution_count": 12
        }
      ]
    },
    {
      "cell_type": "code",
      "source": [
        "12.5%7.5\n"
      ],
      "metadata": {
        "colab": {
          "base_uri": "https://localhost:8080/"
        },
        "id": "lE2y1RBeXjmv",
        "outputId": "f8a72389-01cd-4332-c9a7-0d047cff8a30"
      },
      "execution_count": 16,
      "outputs": [
        {
          "output_type": "execute_result",
          "data": {
            "text/plain": [
              "5.0"
            ]
          },
          "metadata": {},
          "execution_count": 16
        }
      ]
    },
    {
      "cell_type": "code",
      "source": [
        "-7%5\n",
        "#  modulo can never be negative!!"
      ],
      "metadata": {
        "colab": {
          "base_uri": "https://localhost:8080/"
        },
        "id": "g6ySaiwIXtmt",
        "outputId": "4ac576f4-557f-4111-864a-00d50dec6c7a"
      },
      "execution_count": 17,
      "outputs": [
        {
          "output_type": "execute_result",
          "data": {
            "text/plain": [
              "3"
            ]
          },
          "metadata": {},
          "execution_count": 17
        }
      ]
    },
    {
      "cell_type": "code",
      "source": [
        "7%5"
      ],
      "metadata": {
        "colab": {
          "base_uri": "https://localhost:8080/"
        },
        "id": "w0Pq1FYHaYtE",
        "outputId": "3eb61cfd-b9a6-43ba-bfb3-9faf0cedd7cd"
      },
      "execution_count": 18,
      "outputs": [
        {
          "output_type": "execute_result",
          "data": {
            "text/plain": [
              "2"
            ]
          },
          "metadata": {},
          "execution_count": 18
        }
      ]
    },
    {
      "cell_type": "code",
      "source": [
        "-21%8"
      ],
      "metadata": {
        "colab": {
          "base_uri": "https://localhost:8080/"
        },
        "id": "_VFYAt1Cag8n",
        "outputId": "3dbbbbe4-8e8b-47ff-a6c7-a56c048edc03"
      },
      "execution_count": 19,
      "outputs": [
        {
          "output_type": "execute_result",
          "data": {
            "text/plain": [
              "3"
            ]
          },
          "metadata": {},
          "execution_count": 19
        }
      ]
    },
    {
      "cell_type": "code",
      "source": [
        "21%8\n"
      ],
      "metadata": {
        "colab": {
          "base_uri": "https://localhost:8080/"
        },
        "id": "oHFsZEZ1ajJ9",
        "outputId": "99155ed5-912d-4e35-b9d8-16fe80384027"
      },
      "execution_count": 20,
      "outputs": [
        {
          "output_type": "execute_result",
          "data": {
            "text/plain": [
              "5"
            ]
          },
          "metadata": {},
          "execution_count": 20
        }
      ]
    },
    {
      "cell_type": "code",
      "source": [
        "-21%-8\n",
        "# !!!!!!!!!!!!!!!!!!!!!!!!!!"
      ],
      "metadata": {
        "colab": {
          "base_uri": "https://localhost:8080/"
        },
        "id": "6AYqkPWhawf7",
        "outputId": "e80c2404-e976-4fa9-f3ba-57607f606efc"
      },
      "execution_count": 22,
      "outputs": [
        {
          "output_type": "execute_result",
          "data": {
            "text/plain": [
              "-5"
            ]
          },
          "metadata": {},
          "execution_count": 22
        }
      ]
    },
    {
      "cell_type": "code",
      "source": [
        "a=2.5\n",
        "b=1.6\n",
        "print(\"a+b:\",a+b)\n",
        "print(\"a-b:\",a-b)\n",
        "print(\"a*b:\",a*b)\n",
        "print(\"a/b:\",a/b)\n",
        "print(\"a%b:\",a%b)\n",
        "print(\"a//b:\",a//b)\n",
        "print(\"a**b:\",a**b)"
      ],
      "metadata": {
        "colab": {
          "base_uri": "https://localhost:8080/"
        },
        "id": "IPd05oMkQ40r",
        "outputId": "89af88a2-f936-4f5b-e991-31556a63e9a9"
      },
      "execution_count": 13,
      "outputs": [
        {
          "output_type": "stream",
          "name": "stdout",
          "text": [
            "a+b: 4.1\n",
            "a-b: 0.8999999999999999\n",
            "a*b: 4.0\n",
            "a/b: 1.5625\n",
            "a%b: 0.8999999999999999\n",
            "a//b: 1.0\n",
            "a**b: 4.3321552697196655\n"
          ]
        }
      ]
    },
    {
      "cell_type": "markdown",
      "source": [
        "**COMPARISION OPERATORS**"
      ],
      "metadata": {
        "id": "6Mc-ybfXRKv5"
      }
    },
    {
      "cell_type": "code",
      "source": [
        "a=20\n",
        "b=10\n",
        "print(\"a>b:\",a>b)\n",
        "print(\"a<b:\",a<b)\n",
        "print(\"a>=b:\",a>=b)\n",
        "print(\"a<=b:\",a<=b)\n",
        "print(\"a==b:\",a==b)\n",
        "print(\"a!=b:\",a!=b)\n",
        "# bool type"
      ],
      "metadata": {
        "colab": {
          "base_uri": "https://localhost:8080/"
        },
        "id": "NHIzXEH5RRi3",
        "outputId": "a5931b41-9a71-4634-a8e1-57dcd9129d1a"
      },
      "execution_count": 14,
      "outputs": [
        {
          "output_type": "stream",
          "name": "stdout",
          "text": [
            "a>b: True\n",
            "a<b: False\n",
            "a>=b: True\n",
            "a<=b: False\n",
            "a==b: False\n",
            "a!=b: True\n"
          ]
        }
      ]
    },
    {
      "cell_type": "code",
      "source": [
        "a=10\n",
        "b=10\n",
        "print(\"a>b:\",a>b)\n",
        "print(\"a<b:\",a<b)\n",
        "print(\"a>=b:\",a>=b)\n",
        "print(\"a<=b:\",a<=b)\n",
        "print(\"a==b:\",a==b)\n",
        "print(\"a!=b:\",a!=b)\n",
        "# bool type"
      ],
      "metadata": {
        "colab": {
          "base_uri": "https://localhost:8080/"
        },
        "id": "VHxwoTb7RxA_",
        "outputId": "1a7568ea-04fe-48f5-b289-10bface1e126"
      },
      "execution_count": 15,
      "outputs": [
        {
          "output_type": "stream",
          "name": "stdout",
          "text": [
            "a>b: False\n",
            "a<b: False\n",
            "a>=b: True\n",
            "a<=b: True\n",
            "a==b: True\n",
            "a!=b: False\n"
          ]
        }
      ]
    },
    {
      "cell_type": "code",
      "source": [
        "print(0==0)\n",
        "print(0==0.0)\n",
        "print(True==1)\n",
        "print(False==0)\n",
        "print(True==1.0)\n",
        "print(False==0.0)"
      ],
      "metadata": {
        "colab": {
          "base_uri": "https://localhost:8080/"
        },
        "id": "7tmm_16HbPMn",
        "outputId": "b68d97f6-ff2c-4bd5-9a83-8a4efbb49a6a"
      },
      "execution_count": 24,
      "outputs": [
        {
          "output_type": "stream",
          "name": "stdout",
          "text": [
            "True\n",
            "True\n",
            "True\n",
            "True\n",
            "True\n",
            "True\n"
          ]
        }
      ]
    },
    {
      "cell_type": "markdown",
      "source": [
        "**LOGICAL OPERATORS**"
      ],
      "metadata": {
        "id": "8C1x1Cx6bcQZ"
      }
    },
    {
      "cell_type": "code",
      "source": [
        "# and, or, not\n",
        "x=23\n",
        "y=95\n",
        "print(x>20 and y<100)  # true only if all are true, false if anyone is false\n",
        "print(x>20 and y<90)\n",
        "print(x>20 or y<100)  # true only if anyne one is true, false if all false\n",
        "print(not(x>20 and y<100))"
      ],
      "metadata": {
        "colab": {
          "base_uri": "https://localhost:8080/"
        },
        "id": "Hf0f5-9Dbf8P",
        "outputId": "46757770-ddce-49f0-8fea-d1ef7aad15a2"
      },
      "execution_count": 26,
      "outputs": [
        {
          "output_type": "stream",
          "name": "stdout",
          "text": [
            "True\n",
            "False\n",
            "True\n",
            "False\n"
          ]
        }
      ]
    },
    {
      "cell_type": "code",
      "source": [
        "a=3\n",
        "b=5\n",
        "c=9\n",
        "print(a and b and c)  # true\n",
        "print(not(a and b and c))\n",
        "# here 0,0.0, none , false other than that value will be True.\n",
        "# if all true then --> last value to be True will be returned"
      ],
      "metadata": {
        "colab": {
          "base_uri": "https://localhost:8080/"
        },
        "id": "YPkTubbKcQQI",
        "outputId": "63c7daa5-d3be-43cf-aefe-1711975a7d71"
      },
      "execution_count": 39,
      "outputs": [
        {
          "output_type": "stream",
          "name": "stdout",
          "text": [
            "9\n",
            "False\n"
          ]
        }
      ]
    },
    {
      "cell_type": "code",
      "source": [
        "a=3\n",
        "b=0\n",
        "c=9\n",
        "print(a and b and c)   # false-> having value 0 in AND\n",
        "print(not(a and b and c))\n",
        "#  value 0 then false. it will stop and directly return 0,\n",
        "#  will not check further condition in AND operator."
      ],
      "metadata": {
        "colab": {
          "base_uri": "https://localhost:8080/"
        },
        "id": "IEHb08nqdEk0",
        "outputId": "49ecfca7-6980-4c6d-c6ee-7a6dc355ff55"
      },
      "execution_count": 37,
      "outputs": [
        {
          "output_type": "stream",
          "name": "stdout",
          "text": [
            "0\n",
            "True\n"
          ]
        }
      ]
    },
    {
      "cell_type": "code",
      "source": [
        "a=3\n",
        "b=5\n",
        "c=9\n",
        "print(a or b or c) # true\n",
        "print(not(a or b or c))\n",
        "# if 1st operand is true then it will return that value only.will not check further condition"
      ],
      "metadata": {
        "colab": {
          "base_uri": "https://localhost:8080/"
        },
        "id": "AMhiW8Wed5e-",
        "outputId": "a5881b88-bcbd-4183-8284-af42812300ce"
      },
      "execution_count": 40,
      "outputs": [
        {
          "output_type": "stream",
          "name": "stdout",
          "text": [
            "3\n",
            "False\n"
          ]
        }
      ]
    },
    {
      "cell_type": "code",
      "source": [
        "a=0\n",
        "b=7\n",
        "c=9\n",
        "print(a or b or c) # True --> OR operator so 0 is allowed till all are false\n",
        "print(not(a or b or c))\n",
        "# if 1st operand is false then only it will check further condition."
      ],
      "metadata": {
        "colab": {
          "base_uri": "https://localhost:8080/"
        },
        "id": "zh2R3plkeQ3l",
        "outputId": "5e97d3ad-737c-4122-98fd-080a10efb63c"
      },
      "execution_count": 41,
      "outputs": [
        {
          "output_type": "stream",
          "name": "stdout",
          "text": [
            "7\n",
            "False\n"
          ]
        }
      ]
    },
    {
      "cell_type": "code",
      "source": [
        "a=0\n",
        "b=False\n",
        "c=9\n",
        "print(a or b or c)\n",
        "print(not(a or b or c))"
      ],
      "metadata": {
        "colab": {
          "base_uri": "https://localhost:8080/"
        },
        "id": "dJ-FdsLSemLy",
        "outputId": "ca9389ef-7f3a-4d7c-8359-f1d67ebbb46e"
      },
      "execution_count": 42,
      "outputs": [
        {
          "output_type": "stream",
          "name": "stdout",
          "text": [
            "9\n",
            "False\n"
          ]
        }
      ]
    },
    {
      "cell_type": "code",
      "source": [
        "a=3\n",
        "b=5\n",
        "c=9\n",
        "print(a or b and c)\n",
        "print(a and b or c)\n",
        "print(not(a and b or c))\n",
        "print(not(a or b and c))"
      ],
      "metadata": {
        "colab": {
          "base_uri": "https://localhost:8080/"
        },
        "id": "nnpa0TMtmwqg",
        "outputId": "6ad4ad15-b5b9-49cc-ddad-789256c0b159"
      },
      "execution_count": 43,
      "outputs": [
        {
          "output_type": "stream",
          "name": "stdout",
          "text": [
            "3\n",
            "5\n",
            "False\n",
            "False\n"
          ]
        }
      ]
    }
  ]
}