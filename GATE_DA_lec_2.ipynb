{
  "nbformat": 4,
  "nbformat_minor": 0,
  "metadata": {
    "colab": {
      "provenance": [],
      "include_colab_link": true
    },
    "kernelspec": {
      "name": "python3",
      "display_name": "Python 3"
    },
    "language_info": {
      "name": "python"
    }
  },
  "cells": [
    {
      "cell_type": "markdown",
      "metadata": {
        "id": "view-in-github",
        "colab_type": "text"
      },
      "source": [
        "<a href=\"https://colab.research.google.com/github/DB0324/DB0324/blob/main/GATE_DA_lec_2.ipynb\" target=\"_parent\"><img src=\"https://colab.research.google.com/assets/colab-badge.svg\" alt=\"Open In Colab\"/></a>"
      ]
    },
    {
      "cell_type": "code",
      "execution_count": null,
      "metadata": {
        "id": "rapu680gW9pQ",
        "colab": {
          "base_uri": "https://localhost:8080/"
        },
        "outputId": "724d8a5b-4d7f-44d5-fd52-ca16e3c55055"
      },
      "outputs": [
        {
          "output_type": "stream",
          "name": "stdout",
          "text": [
            "hey---there\n"
          ]
        }
      ],
      "source": [
        "print(\"hey\",\"there\", sep=\"---\")\n"
      ]
    },
    {
      "cell_type": "code",
      "source": [
        "print(\"htret\",\"SRGRG\",\"sdf\",end=\"#ejncj\",sep=\"646\")\n",
        "print(\"ZSFG\",\"asdt\")"
      ],
      "metadata": {
        "colab": {
          "base_uri": "https://localhost:8080/"
        },
        "id": "3gqNutLIq69C",
        "outputId": "38823db3-bd85-4994-bd28-41ee935a1c3f"
      },
      "execution_count": null,
      "outputs": [
        {
          "output_type": "stream",
          "name": "stdout",
          "text": [
            "htret646SRGRG646sdf#ejncjZSFG asdt\n"
          ]
        }
      ]
    },
    {
      "cell_type": "markdown",
      "source": [
        "using semicolon"
      ],
      "metadata": {
        "id": "_nxbe7sKrfgX"
      }
    },
    {
      "cell_type": "code",
      "source": [
        "print(\"asdcx\");\n",
        "print(\"ksn kn\")"
      ],
      "metadata": {
        "colab": {
          "base_uri": "https://localhost:8080/"
        },
        "id": "RAXh4FLIrkQN",
        "outputId": "474b19b8-3648-41c3-e817-0a5ec51bf056"
      },
      "execution_count": null,
      "outputs": [
        {
          "output_type": "stream",
          "name": "stdout",
          "text": [
            "asdcx\n",
            "ksn kn\n"
          ]
        }
      ]
    },
    {
      "cell_type": "code",
      "source": [
        "print(\"asdcx\") print(\"ksn kn\")"
      ],
      "metadata": {
        "colab": {
          "base_uri": "https://localhost:8080/",
          "height": 106
        },
        "id": "Vpf1oEoorqPZ",
        "outputId": "7de3c0d3-0ccf-4986-ab5d-e0c5dc3f93ad"
      },
      "execution_count": null,
      "outputs": [
        {
          "output_type": "error",
          "ename": "SyntaxError",
          "evalue": "invalid syntax (<ipython-input-6-a4ef8ac9197a>, line 1)",
          "traceback": [
            "\u001b[0;36m  File \u001b[0;32m\"<ipython-input-6-a4ef8ac9197a>\"\u001b[0;36m, line \u001b[0;32m1\u001b[0m\n\u001b[0;31m    print(\"asdcx\") print(\"ksn kn\")\u001b[0m\n\u001b[0m                   ^\u001b[0m\n\u001b[0;31mSyntaxError\u001b[0m\u001b[0;31m:\u001b[0m invalid syntax\n"
          ]
        }
      ]
    },
    {
      "cell_type": "code",
      "source": [
        "print(\"asdcx\");  print(\"ksn kn\")"
      ],
      "metadata": {
        "colab": {
          "base_uri": "https://localhost:8080/"
        },
        "id": "UDBsTHLAr4SO",
        "outputId": "4c5ef9c6-1ebe-4dd7-f5ef-287fa19a18bc"
      },
      "execution_count": null,
      "outputs": [
        {
          "output_type": "stream",
          "name": "stdout",
          "text": [
            "asdcx\n",
            "ksn kn\n"
          ]
        }
      ]
    },
    {
      "cell_type": "markdown",
      "source": [
        "IDENTATION"
      ],
      "metadata": {
        "id": "570eWPa7t4x9"
      }
    },
    {
      "cell_type": "code",
      "source": [
        "print(\"adxf\")\n",
        "   print(\"Asd\")"
      ],
      "metadata": {
        "colab": {
          "base_uri": "https://localhost:8080/",
          "height": 106
        },
        "id": "m4rIA0Cnt_Qr",
        "outputId": "e7496f39-613c-4b81-ae96-2bcbadd93c9b"
      },
      "execution_count": null,
      "outputs": [
        {
          "output_type": "error",
          "ename": "IndentationError",
          "evalue": "unexpected indent (<ipython-input-8-fee4e6e7bcbd>, line 2)",
          "traceback": [
            "\u001b[0;36m  File \u001b[0;32m\"<ipython-input-8-fee4e6e7bcbd>\"\u001b[0;36m, line \u001b[0;32m2\u001b[0m\n\u001b[0;31m    print(\"Asd\")\u001b[0m\n\u001b[0m    ^\u001b[0m\n\u001b[0;31mIndentationError\u001b[0m\u001b[0;31m:\u001b[0m unexpected indent\n"
          ]
        }
      ]
    },
    {
      "cell_type": "code",
      "source": [
        "_ = 100\n",
        "print(_)"
      ],
      "metadata": {
        "colab": {
          "base_uri": "https://localhost:8080/"
        },
        "id": "T_dLNBlUuGH2",
        "outputId": "89e2a556-21e8-4b89-fcab-4618b2e8e0fe"
      },
      "execution_count": null,
      "outputs": [
        {
          "output_type": "stream",
          "name": "stdout",
          "text": [
            "100\n"
          ]
        }
      ]
    },
    {
      "cell_type": "code",
      "source": [
        "9we=18"
      ],
      "metadata": {
        "colab": {
          "base_uri": "https://localhost:8080/",
          "height": 106
        },
        "id": "14ro3E1Ru-uk",
        "outputId": "2520c485-9ccc-4a7f-d218-39080271359e"
      },
      "execution_count": null,
      "outputs": [
        {
          "output_type": "error",
          "ename": "SyntaxError",
          "evalue": "invalid decimal literal (<ipython-input-16-5765637c10eb>, line 1)",
          "traceback": [
            "\u001b[0;36m  File \u001b[0;32m\"<ipython-input-16-5765637c10eb>\"\u001b[0;36m, line \u001b[0;32m1\u001b[0m\n\u001b[0;31m    9we=18\u001b[0m\n\u001b[0m    ^\u001b[0m\n\u001b[0;31mSyntaxError\u001b[0m\u001b[0;31m:\u001b[0m invalid decimal literal\n"
          ]
        }
      ]
    },
    {
      "cell_type": "code",
      "source": [
        "has jak=\"now\""
      ],
      "metadata": {
        "colab": {
          "base_uri": "https://localhost:8080/",
          "height": 106
        },
        "id": "sXH6ZxPvvCl1",
        "outputId": "1c861c83-ee82-4206-d209-785ac6a1490e"
      },
      "execution_count": null,
      "outputs": [
        {
          "output_type": "error",
          "ename": "SyntaxError",
          "evalue": "invalid syntax (<ipython-input-17-64fc81c3c460>, line 1)",
          "traceback": [
            "\u001b[0;36m  File \u001b[0;32m\"<ipython-input-17-64fc81c3c460>\"\u001b[0;36m, line \u001b[0;32m1\u001b[0m\n\u001b[0;31m    has jak=\"now\"\u001b[0m\n\u001b[0m        ^\u001b[0m\n\u001b[0;31mSyntaxError\u001b[0m\u001b[0;31m:\u001b[0m invalid syntax\n"
          ]
        }
      ]
    },
    {
      "cell_type": "code",
      "source": [
        "import keyword\n",
        "print(keyword.kwlist)\n",
        "print(len(keyword.kwlist))\n",
        "# avoid this keyword as variable name also function name\n",
        "# avoid capital letter as variable name"
      ],
      "metadata": {
        "colab": {
          "base_uri": "https://localhost:8080/"
        },
        "id": "sdX0Fd97vQWV",
        "outputId": "4e106e09-922e-41ee-de83-fcad2c1620f9"
      },
      "execution_count": null,
      "outputs": [
        {
          "output_type": "stream",
          "name": "stdout",
          "text": [
            "['False', 'None', 'True', 'and', 'as', 'assert', 'async', 'await', 'break', 'class', 'continue', 'def', 'del', 'elif', 'else', 'except', 'finally', 'for', 'from', 'global', 'if', 'import', 'in', 'is', 'lambda', 'nonlocal', 'not', 'or', 'pass', 'raise', 'return', 'try', 'while', 'with', 'yield']\n",
            "35\n"
          ]
        }
      ]
    },
    {
      "cell_type": "markdown",
      "source": [
        "DATA TYPES"
      ],
      "metadata": {
        "id": "PEFs22k9xpJc"
      }
    },
    {
      "cell_type": "markdown",
      "source": [
        "1.STRINGS\n",
        "  --> series of characters"
      ],
      "metadata": {
        "id": "CJGinH4vx4Uw"
      }
    },
    {
      "cell_type": "code",
      "source": [
        "str1 = \"dhara\"\n",
        "str2 =\"bambhroliya\"\n",
        "print(str1)\n",
        "print(str2)\n",
        "print(type(str1))\n",
        "print(type(str2))"
      ],
      "metadata": {
        "colab": {
          "base_uri": "https://localhost:8080/"
        },
        "id": "IZDdBV43xstK",
        "outputId": "433ff599-84d0-45d5-9cf9-12022cd2bcfa"
      },
      "execution_count": null,
      "outputs": [
        {
          "output_type": "stream",
          "name": "stdout",
          "text": [
            "dhara\n",
            "bambhroliya\n",
            "<class 'str'>\n",
            "<class 'str'>\n"
          ]
        }
      ]
    },
    {
      "cell_type": "code",
      "source": [
        "str3=str(\"dhara bambhroliya\")\n",
        "print(str3)\n",
        "print(type(str3))\n"
      ],
      "metadata": {
        "colab": {
          "base_uri": "https://localhost:8080/"
        },
        "id": "GoVJvAAyyr_R",
        "outputId": "fe757dad-15d7-48fc-e14c-2cefb603f030"
      },
      "execution_count": null,
      "outputs": [
        {
          "output_type": "stream",
          "name": "stdout",
          "text": [
            "dhara bambhroliya\n",
            "<class 'str'>\n"
          ]
        }
      ]
    },
    {
      "cell_type": "code",
      "source": [
        "print(id(str1))\n",
        "print(id(str3))\n",
        "print(id(str2))\n"
      ],
      "metadata": {
        "colab": {
          "base_uri": "https://localhost:8080/"
        },
        "id": "KUnBG1-ZzFg0",
        "outputId": "be8f65d2-7bcf-43a0-9b28-21d43473b29f"
      },
      "execution_count": null,
      "outputs": [
        {
          "output_type": "stream",
          "name": "stdout",
          "text": [
            "138940479310576\n",
            "138940970141216\n",
            "138940479315888\n"
          ]
        }
      ]
    },
    {
      "cell_type": "markdown",
      "source": [
        "python gives same id on cases of small int and small string"
      ],
      "metadata": {
        "id": "0sfiV-Jfz9MJ"
      }
    },
    {
      "cell_type": "code",
      "source": [
        "a=250\n",
        "b=250\n",
        "print(id(a))\n",
        "print(id(b))\n",
        "c=300\n",
        "d=300\n",
        "print(id(c))\n",
        "print(id(d))"
      ],
      "metadata": {
        "colab": {
          "base_uri": "https://localhost:8080/"
        },
        "id": "i7OpzTjq0GQN",
        "outputId": "50f2a17d-12e9-425a-c26d-4304de8908aa"
      },
      "execution_count": null,
      "outputs": [
        {
          "output_type": "stream",
          "name": "stdout",
          "text": [
            "138941386743824\n",
            "138941386743824\n",
            "138940105681008\n",
            "138940105686576\n"
          ]
        }
      ]
    },
    {
      "cell_type": "code",
      "source": [
        "string1=\"dhara\"\n",
        "strin2=\"dhara\"\n",
        "string1==strin2\n",
        "\n"
      ],
      "metadata": {
        "colab": {
          "base_uri": "https://localhost:8080/"
        },
        "id": "6ZMh0aMk0kdZ",
        "outputId": "6da9cf65-df15-4909-8bbf-90c7cf054965"
      },
      "execution_count": null,
      "outputs": [
        {
          "output_type": "execute_result",
          "data": {
            "text/plain": [
              "True"
            ]
          },
          "metadata": {},
          "execution_count": 36
        }
      ]
    },
    {
      "cell_type": "code",
      "source": [
        "s1=str(\"dhara\")\n",
        "s2=str(\"dhara \")  # adding a space\n",
        "s1==s2"
      ],
      "metadata": {
        "colab": {
          "base_uri": "https://localhost:8080/"
        },
        "id": "r_heXYe81Z6o",
        "outputId": "54e4ad80-3774-4f33-c5b5-8a912d7dcab1"
      },
      "execution_count": null,
      "outputs": [
        {
          "output_type": "execute_result",
          "data": {
            "text/plain": [
              "False"
            ]
          },
          "metadata": {},
          "execution_count": 35
        }
      ]
    },
    {
      "cell_type": "code",
      "source": [
        "print(s2.rstrip())\n",
        "s1=\" djakc\"\n",
        "print(s1.lstrip())\n",
        "s3=\" asd \"\n",
        "print(s3.strip())"
      ],
      "metadata": {
        "colab": {
          "base_uri": "https://localhost:8080/"
        },
        "id": "5_8E0iBd1N91",
        "outputId": "918b1346-cbb0-41c2-9b9d-7e1c218e61c3"
      },
      "execution_count": null,
      "outputs": [
        {
          "output_type": "stream",
          "name": "stdout",
          "text": [
            "dhara\n",
            "djakc\n",
            "asd\n"
          ]
        }
      ]
    },
    {
      "cell_type": "code",
      "source": [
        "# concatination\n",
        "s1+s2"
      ],
      "metadata": {
        "colab": {
          "base_uri": "https://localhost:8080/",
          "height": 36
        },
        "id": "eQyLDpJZ2I4B",
        "outputId": "a3eeab91-d220-4bcb-d303-261f84c5421d"
      },
      "execution_count": null,
      "outputs": [
        {
          "output_type": "execute_result",
          "data": {
            "text/plain": [
              "' djakcdhara '"
            ],
            "application/vnd.google.colaboratory.intrinsic+json": {
              "type": "string"
            }
          },
          "metadata": {},
          "execution_count": 40
        }
      ]
    },
    {
      "cell_type": "code",
      "source": [
        "s1+\" \"+s2\n"
      ],
      "metadata": {
        "colab": {
          "base_uri": "https://localhost:8080/",
          "height": 36
        },
        "id": "RdktmWVK2RKV",
        "outputId": "ad3bbf5b-150d-43c4-ace2-7b3bc48ebac9"
      },
      "execution_count": null,
      "outputs": [
        {
          "output_type": "execute_result",
          "data": {
            "text/plain": [
              "' djakc dhara '"
            ],
            "application/vnd.google.colaboratory.intrinsic+json": {
              "type": "string"
            }
          },
          "metadata": {},
          "execution_count": 41
        }
      ]
    },
    {
      "cell_type": "markdown",
      "source": [
        "2.**NUMERIC**"
      ],
      "metadata": {
        "id": "BrcVYIpk0QXG"
      }
    },
    {
      "cell_type": "code",
      "source": [
        "a=10\n",
        "b=3\n",
        "print(a+b)\n",
        "print(a-b)\n",
        "print(a*b)\n",
        "print(a/b)\n"
      ],
      "metadata": {
        "colab": {
          "base_uri": "https://localhost:8080/"
        },
        "id": "xpXF20oWzcRz",
        "outputId": "1f98e860-40d8-4409-faf1-f9ca35749540"
      },
      "execution_count": null,
      "outputs": [
        {
          "output_type": "stream",
          "name": "stdout",
          "text": [
            "13\n",
            "7\n",
            "30\n",
            "3.3333333333333335\n"
          ]
        }
      ]
    },
    {
      "cell_type": "code",
      "source": [
        "c=20\n",
        "d=4\n",
        "print(c/d)\n",
        "print(type(c/d))\n",
        "# normal division always return float value"
      ],
      "metadata": {
        "colab": {
          "base_uri": "https://localhost:8080/"
        },
        "id": "dyRBbmy10uek",
        "outputId": "0825007e-970a-4c89-ce21-7947ff8eccc8"
      },
      "execution_count": null,
      "outputs": [
        {
          "output_type": "stream",
          "name": "stdout",
          "text": [
            "5.0\n",
            "<class 'float'>\n"
          ]
        }
      ]
    },
    {
      "cell_type": "code",
      "source": [
        "# FLOOR division\n",
        "c=20\n",
        "d=4\n",
        "print(c//d)\n",
        "print(type(c//d))\n",
        "# floor division always return int value--> floor value of the answer"
      ],
      "metadata": {
        "colab": {
          "base_uri": "https://localhost:8080/"
        },
        "id": "0hg4W8o21L3D",
        "outputId": "09b33e21-3356-4a1e-d8bb-bb4dd0094688"
      },
      "execution_count": null,
      "outputs": [
        {
          "output_type": "stream",
          "name": "stdout",
          "text": [
            "5\n",
            "<class 'int'>\n"
          ]
        }
      ]
    },
    {
      "cell_type": "markdown",
      "source": [],
      "metadata": {
        "id": "R6K4lhp72II2"
      }
    },
    {
      "cell_type": "code",
      "source": [
        "from decimal import Decimal\n",
        "Decimal (0.2)"
      ],
      "metadata": {
        "id": "cmeljtFZ5Q6t",
        "colab": {
          "base_uri": "https://localhost:8080/"
        },
        "outputId": "8ffa2e14-3a54-434f-ac0d-6b03f5afcc7a"
      },
      "execution_count": 12,
      "outputs": [
        {
          "output_type": "execute_result",
          "data": {
            "text/plain": [
              "Decimal('0.200000000000000011102230246251565404236316680908203125')"
            ]
          },
          "metadata": {},
          "execution_count": 12
        }
      ]
    },
    {
      "cell_type": "code",
      "source": [
        "Decimal(0.3)\n",
        "\n",
        "# here value of 0.3 is not same\n",
        "# converting to binary and back to floating point value changes and it is close to origial value"
      ],
      "metadata": {
        "colab": {
          "base_uri": "https://localhost:8080/"
        },
        "id": "IIBSg5gw59SZ",
        "outputId": "173dde87-0323-470b-dd49-0415423a43aa"
      },
      "execution_count": 16,
      "outputs": [
        {
          "output_type": "execute_result",
          "data": {
            "text/plain": [
              "Decimal('0.299999999999999988897769753748434595763683319091796875')"
            ]
          },
          "metadata": {},
          "execution_count": 16
        }
      ]
    },
    {
      "cell_type": "code",
      "source": [
        "a=.1\n",
        "b=.2\n",
        "a+b\n"
      ],
      "metadata": {
        "colab": {
          "base_uri": "https://localhost:8080/"
        },
        "id": "XYhzVXoM6Pt0",
        "outputId": "12696394-05ac-4c18-db31-cb0b1f134ace"
      },
      "execution_count": 17,
      "outputs": [
        {
          "output_type": "execute_result",
          "data": {
            "text/plain": [
              "0.30000000000000004"
            ]
          },
          "metadata": {},
          "execution_count": 17
        }
      ]
    },
    {
      "cell_type": "code",
      "source": [
        "from decimal import Decimal\n",
        "a=Decimal('0.1')\n",
        "b=Decimal('0.2')\n",
        "print(type(a))\n",
        "c=a+b\n",
        "c\n",
        "# this is type conversion"
      ],
      "metadata": {
        "colab": {
          "base_uri": "https://localhost:8080/"
        },
        "id": "MTPuuEDs6yY7",
        "outputId": "0e550dac-187c-42a6-afce-e1b36928d4e8"
      },
      "execution_count": 24,
      "outputs": [
        {
          "output_type": "stream",
          "name": "stdout",
          "text": [
            "<class 'decimal.Decimal'>\n"
          ]
        },
        {
          "output_type": "execute_result",
          "data": {
            "text/plain": [
              "Decimal('0.3')"
            ]
          },
          "metadata": {},
          "execution_count": 24
        }
      ]
    },
    {
      "cell_type": "code",
      "source": [
        "a=Decimal(0.1)\n",
        "b=Decimal(0.2)\n",
        "a+b"
      ],
      "metadata": {
        "colab": {
          "base_uri": "https://localhost:8080/"
        },
        "id": "bItWPZ2X7ecM",
        "outputId": "956b3260-f93f-46ed-a238-81a9673ec96e"
      },
      "execution_count": 25,
      "outputs": [
        {
          "output_type": "execute_result",
          "data": {
            "text/plain": [
              "Decimal('0.3000000000000000166533453694')"
            ]
          },
          "metadata": {},
          "execution_count": 25
        }
      ]
    },
    {
      "cell_type": "code",
      "source": [
        "# type conversion\n",
        "f=3.3\n",
        "i=int(f)\n",
        "print(i)\n",
        "print(type(i))"
      ],
      "metadata": {
        "colab": {
          "base_uri": "https://localhost:8080/"
        },
        "id": "sa-CxylN8HM1",
        "outputId": "5e8faccb-ba11-46a9-8714-508ec9aaac8f"
      },
      "execution_count": 27,
      "outputs": [
        {
          "output_type": "stream",
          "name": "stdout",
          "text": [
            "3\n",
            "<class 'int'>\n"
          ]
        }
      ]
    },
    {
      "cell_type": "code",
      "source": [
        "# string immutable\n",
        "name = \"dhara\"\n",
        "name[0]='b'\n",
        "name"
      ],
      "metadata": {
        "colab": {
          "base_uri": "https://localhost:8080/",
          "height": 193
        },
        "id": "CbWL4x2J8PRd",
        "outputId": "a6d26211-07cf-4f3b-c214-f653eff984a2"
      },
      "execution_count": 28,
      "outputs": [
        {
          "output_type": "error",
          "ename": "TypeError",
          "evalue": "'str' object does not support item assignment",
          "traceback": [
            "\u001b[0;31m---------------------------------------------------------------------------\u001b[0m",
            "\u001b[0;31mTypeError\u001b[0m                                 Traceback (most recent call last)",
            "\u001b[0;32m<ipython-input-28-8c84ffc5bdfb>\u001b[0m in \u001b[0;36m<cell line: 3>\u001b[0;34m()\u001b[0m\n\u001b[1;32m      1\u001b[0m \u001b[0;31m# string immutable\u001b[0m\u001b[0;34m\u001b[0m\u001b[0;34m\u001b[0m\u001b[0m\n\u001b[1;32m      2\u001b[0m \u001b[0mname\u001b[0m \u001b[0;34m=\u001b[0m \u001b[0;34m\"dhara\"\u001b[0m\u001b[0;34m\u001b[0m\u001b[0;34m\u001b[0m\u001b[0m\n\u001b[0;32m----> 3\u001b[0;31m \u001b[0mname\u001b[0m\u001b[0;34m[\u001b[0m\u001b[0;36m0\u001b[0m\u001b[0;34m]\u001b[0m\u001b[0;34m=\u001b[0m\u001b[0;34m'b'\u001b[0m\u001b[0;34m\u001b[0m\u001b[0;34m\u001b[0m\u001b[0m\n\u001b[0m\u001b[1;32m      4\u001b[0m \u001b[0mname\u001b[0m\u001b[0;34m\u001b[0m\u001b[0;34m\u001b[0m\u001b[0m\n",
            "\u001b[0;31mTypeError\u001b[0m: 'str' object does not support item assignment"
          ]
        }
      ]
    },
    {
      "cell_type": "code",
      "source": [
        "lst = []\n",
        "print(type(lst))\n",
        "lst = [1,23,87,'dhara','ahbs']\n",
        "print(id(lst))\n",
        "print(len(lst))\n",
        "lst[0]=100\n",
        "print(lst)\n",
        "print(id(lst))\n",
        "# here, id does not change after updating list--> Mutable"
      ],
      "metadata": {
        "colab": {
          "base_uri": "https://localhost:8080/"
        },
        "id": "aou7WrbCGOyt",
        "outputId": "8aa9e37f-054e-4680-8f0a-6a1b55eaa859"
      },
      "execution_count": 44,
      "outputs": [
        {
          "output_type": "stream",
          "name": "stdout",
          "text": [
            "<class 'list'>\n",
            "135105098492800\n",
            "5\n",
            "[100, 23, 87, 'dhara', 'ahbs']\n",
            "135105098492800\n"
          ]
        }
      ]
    },
    {
      "cell_type": "code",
      "source": [
        "name=\"dhara\"\n",
        "print(id(name))\n",
        "name=\"bambhroliya\"\n",
        "print(id(name))\n",
        "# can not do indexing like list in string to change value but used to retrieve character\n",
        "# here, id changes after updating string--> Immutable"
      ],
      "metadata": {
        "colab": {
          "base_uri": "https://localhost:8080/"
        },
        "id": "XXzAMfOsGqkg",
        "outputId": "804b919c-c6a3-42ff-cb8e-f6d9bafbcb9b"
      },
      "execution_count": 33,
      "outputs": [
        {
          "output_type": "stream",
          "name": "stdout",
          "text": [
            "135105097897328\n",
            "135105099264112\n"
          ]
        }
      ]
    },
    {
      "cell_type": "code",
      "source": [
        "new_list=[3,4,5,5]\n",
        "print(id(new_list[2]))\n",
        "print(id(new_list[3]))\n",
        "# id of duplicate value will remain same"
      ],
      "metadata": {
        "colab": {
          "base_uri": "https://localhost:8080/"
        },
        "id": "xkElPn4OIb9c",
        "outputId": "33aee36e-1aec-41ce-87b9-eb6883e1e5cf"
      },
      "execution_count": 37,
      "outputs": [
        {
          "output_type": "stream",
          "name": "stdout",
          "text": [
            "135106382299504\n",
            "135106382299504\n"
          ]
        }
      ]
    },
    {
      "cell_type": "code",
      "source": [
        "a = 5\n",
        "b = 5\n",
        "print(id(a))\n",
        "print(id(b))\n",
        "# id is same as above"
      ],
      "metadata": {
        "colab": {
          "base_uri": "https://localhost:8080/"
        },
        "id": "1epc1-RfJDj5",
        "outputId": "6aba94d7-eaa7-4712-d93a-9dee02d2ef11"
      },
      "execution_count": 40,
      "outputs": [
        {
          "output_type": "stream",
          "name": "stdout",
          "text": [
            "135106382299504\n",
            "135106382299504\n"
          ]
        }
      ]
    },
    {
      "cell_type": "code",
      "source": [
        "c=500\n",
        "d=500\n",
        "print(id(c))\n",
        "print(id(d))\n",
        "# both id are different despite having same value"
      ],
      "metadata": {
        "colab": {
          "base_uri": "https://localhost:8080/"
        },
        "id": "liJRY4F_JV-A",
        "outputId": "cc049160-ed08-42ef-c71e-777a60ff0f74"
      },
      "execution_count": 42,
      "outputs": [
        {
          "output_type": "stream",
          "name": "stdout",
          "text": [
            "135105100392944\n",
            "135105100397712\n"
          ]
        }
      ]
    },
    {
      "cell_type": "code",
      "source": [
        "# but id of value of list will be changed\n",
        "lst = [1,23,87,'dhara','ahbs']\n",
        "print(id(lst))\n",
        "print(id(lst[0]))\n",
        "lst[0]=100\n",
        "print(lst)\n",
        "print(id(lst))\n",
        "print(id(lst[0]))\n",
        "# list id will remain same but value of list which is changed that id will be different"
      ],
      "metadata": {
        "colab": {
          "base_uri": "https://localhost:8080/"
        },
        "id": "ELhK_NaOHVP5",
        "outputId": "a6bda06f-6d9e-422c-aaf4-8ee8780b16b6"
      },
      "execution_count": 34,
      "outputs": [
        {
          "output_type": "stream",
          "name": "stdout",
          "text": [
            "135105098438912\n",
            "135106382299376\n",
            "[100, 23, 87, 'dhara', 'ahbs']\n",
            "135105098438912\n",
            "135106382302544\n"
          ]
        }
      ]
    },
    {
      "cell_type": "code",
      "source": [
        "d= \"dhara\"\n",
        "d[0]"
      ],
      "metadata": {
        "colab": {
          "base_uri": "https://localhost:8080/",
          "height": 36
        },
        "id": "7gZI8224H8K4",
        "outputId": "3d7d00b1-15be-4335-dce8-a8097ea8d137"
      },
      "execution_count": 35,
      "outputs": [
        {
          "output_type": "execute_result",
          "data": {
            "text/plain": [
              "'d'"
            ],
            "application/vnd.google.colaboratory.intrinsic+json": {
              "type": "string"
            }
          },
          "metadata": {},
          "execution_count": 35
        }
      ]
    },
    {
      "cell_type": "code",
      "source": [
        "tpl = ()\n",
        "print(type(tpl))\n",
        "tpl=(1,23,87,'dhara','ahbs')\n",
        "print(id(tpl))\n",
        "print(tpl[-3])\n",
        "tpl[-3]=93\n",
        "tpl\n",
        "# tuple immutable .. value can not  be changed"
      ],
      "metadata": {
        "colab": {
          "base_uri": "https://localhost:8080/",
          "height": 245
        },
        "id": "hjIZIYSJLQEr",
        "outputId": "38623550-4b0a-41f3-fa22-49812e7d64de"
      },
      "execution_count": 46,
      "outputs": [
        {
          "output_type": "stream",
          "name": "stdout",
          "text": [
            "<class 'tuple'>\n",
            "135105099164032\n",
            "87\n"
          ]
        },
        {
          "output_type": "error",
          "ename": "TypeError",
          "evalue": "'tuple' object does not support item assignment",
          "traceback": [
            "\u001b[0;31m---------------------------------------------------------------------------\u001b[0m",
            "\u001b[0;31mTypeError\u001b[0m                                 Traceback (most recent call last)",
            "\u001b[0;32m<ipython-input-46-d951aec13ca4>\u001b[0m in \u001b[0;36m<cell line: 6>\u001b[0;34m()\u001b[0m\n\u001b[1;32m      4\u001b[0m \u001b[0mprint\u001b[0m\u001b[0;34m(\u001b[0m\u001b[0mid\u001b[0m\u001b[0;34m(\u001b[0m\u001b[0mtpl\u001b[0m\u001b[0;34m)\u001b[0m\u001b[0;34m)\u001b[0m\u001b[0;34m\u001b[0m\u001b[0;34m\u001b[0m\u001b[0m\n\u001b[1;32m      5\u001b[0m \u001b[0mprint\u001b[0m\u001b[0;34m(\u001b[0m\u001b[0mtpl\u001b[0m\u001b[0;34m[\u001b[0m\u001b[0;34m-\u001b[0m\u001b[0;36m3\u001b[0m\u001b[0;34m]\u001b[0m\u001b[0;34m)\u001b[0m\u001b[0;34m\u001b[0m\u001b[0;34m\u001b[0m\u001b[0m\n\u001b[0;32m----> 6\u001b[0;31m \u001b[0mtpl\u001b[0m\u001b[0;34m[\u001b[0m\u001b[0;34m-\u001b[0m\u001b[0;36m3\u001b[0m\u001b[0;34m]\u001b[0m\u001b[0;34m=\u001b[0m\u001b[0;36m93\u001b[0m\u001b[0;34m\u001b[0m\u001b[0;34m\u001b[0m\u001b[0m\n\u001b[0m\u001b[1;32m      7\u001b[0m \u001b[0mtpl\u001b[0m\u001b[0;34m\u001b[0m\u001b[0;34m\u001b[0m\u001b[0m\n",
            "\u001b[0;31mTypeError\u001b[0m: 'tuple' object does not support item assignment"
          ]
        }
      ]
    },
    {
      "cell_type": "code",
      "source": [
        "# list to tuple conversion\n",
        "lst_1 = [1,87,'dhara']\n",
        "print(id(lst_1))\n",
        "tpl_1 = tuple(lst_1)\n",
        "print(tpl_1)\n",
        "print(id(tpl_1))\n"
      ],
      "metadata": {
        "colab": {
          "base_uri": "https://localhost:8080/"
        },
        "id": "0aqpie8sL4ja",
        "outputId": "18cb0797-d4dd-4af1-b95b-01016f252c17"
      },
      "execution_count": 48,
      "outputs": [
        {
          "output_type": "stream",
          "name": "stdout",
          "text": [
            "135105099532992\n",
            "(1, 87, 'dhara')\n",
            "135105098456128\n"
          ]
        }
      ]
    }
  ]
}