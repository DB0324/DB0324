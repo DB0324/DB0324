{
  "nbformat": 4,
  "nbformat_minor": 0,
  "metadata": {
    "colab": {
      "provenance": [],
      "authorship_tag": "ABX9TyOyNoZ3oZcuLV3Ss/CkLDdi",
      "include_colab_link": true
    },
    "kernelspec": {
      "name": "python3",
      "display_name": "Python 3"
    },
    "language_info": {
      "name": "python"
    }
  },
  "cells": [
    {
      "cell_type": "markdown",
      "metadata": {
        "id": "view-in-github",
        "colab_type": "text"
      },
      "source": [
        "<a href=\"https://colab.research.google.com/github/DB0324/DB0324/blob/main/GATE_DA_lec_3.ipynb\" target=\"_parent\"><img src=\"https://colab.research.google.com/assets/colab-badge.svg\" alt=\"Open In Colab\"/></a>"
      ]
    },
    {
      "cell_type": "markdown",
      "source": [
        "**RANGE**"
      ],
      "metadata": {
        "id": "X4G8ScXGSepp"
      }
    },
    {
      "cell_type": "code",
      "execution_count": null,
      "metadata": {
        "colab": {
          "base_uri": "https://localhost:8080/"
        },
        "id": "ro1mp9Q4R-qi",
        "outputId": "2361ea0d-fe9a-4dcb-be90-7f1c700a22b7"
      },
      "outputs": [
        {
          "output_type": "stream",
          "name": "stdout",
          "text": [
            "range(0, 5)\n"
          ]
        }
      ],
      "source": [
        "range_val = range(5)\n",
        "print(range_val)"
      ]
    },
    {
      "cell_type": "code",
      "source": [
        "a=list(range_val)\n",
        "b=tuple(range_val)\n",
        "print(a, b)"
      ],
      "metadata": {
        "colab": {
          "base_uri": "https://localhost:8080/"
        },
        "id": "QZwoiiMCTWmd",
        "outputId": "6a0f40a4-43d7-4353-bb7a-9819032afa57"
      },
      "execution_count": null,
      "outputs": [
        {
          "output_type": "stream",
          "name": "stdout",
          "text": [
            "[0, 1, 2, 3, 4] (0, 1, 2, 3, 4)\n"
          ]
        }
      ]
    },
    {
      "cell_type": "code",
      "source": [
        "lst=list(range(46,54,2))\n",
        "lst"
      ],
      "metadata": {
        "colab": {
          "base_uri": "https://localhost:8080/"
        },
        "id": "G1g0l1fRT3UT",
        "outputId": "eb734d30-185c-43e4-b445-55917181eaef"
      },
      "execution_count": null,
      "outputs": [
        {
          "output_type": "execute_result",
          "data": {
            "text/plain": [
              "[46, 48, 50, 52]"
            ]
          },
          "metadata": {},
          "execution_count": 12
        }
      ]
    },
    {
      "cell_type": "code",
      "source": [
        "l1=list(range(10,0,-1))\n",
        "print(l1)\n",
        "t1=tuple(range(10,0,-1))\n",
        "print(t1)"
      ],
      "metadata": {
        "colab": {
          "base_uri": "https://localhost:8080/"
        },
        "id": "V0NgzZT_UGrp",
        "outputId": "1740ce77-9a28-40a0-ea82-520cada9ccec"
      },
      "execution_count": null,
      "outputs": [
        {
          "output_type": "stream",
          "name": "stdout",
          "text": [
            "[10, 9, 8, 7, 6, 5, 4, 3, 2, 1]\n",
            "(10, 9, 8, 7, 6, 5, 4, 3, 2, 1)\n"
          ]
        }
      ]
    },
    {
      "cell_type": "code",
      "source": [
        "range_val2=range(-10)\n",
        "print(range_val2)\n",
        "range_val3=list(range(-10))\n",
        "print(range_val3)\n",
        "# here, list is empty bcz start=0, stop=-10\n",
        "# when start > stop => output is empty list/ tuple/set etc,."
      ],
      "metadata": {
        "colab": {
          "base_uri": "https://localhost:8080/"
        },
        "id": "PQzHJrXPUb9K",
        "outputId": "321c13c2-a8e3-4cc4-e81d-1ecbefabaedb"
      },
      "execution_count": null,
      "outputs": [
        {
          "output_type": "stream",
          "name": "stdout",
          "text": [
            "range(0, -10)\n",
            "[]\n"
          ]
        }
      ]
    },
    {
      "cell_type": "code",
      "source": [
        "range_val4=list(range(-10,-1))\n",
        "print(range_val4)\n",
        "# will take as start and stop value if you want add step then,,\n",
        "range_val5=list(range(-10,-1,3))\n",
        "print(range_val5)"
      ],
      "metadata": {
        "colab": {
          "base_uri": "https://localhost:8080/"
        },
        "id": "_KacdukZVXgq",
        "outputId": "9bf1d59d-0f08-404a-9640-9d89b2929e6e"
      },
      "execution_count": null,
      "outputs": [
        {
          "output_type": "stream",
          "name": "stdout",
          "text": [
            "[-10, -9, -8, -7, -6, -5, -4, -3, -2]\n",
            "[-10, -7, -4]\n"
          ]
        }
      ]
    },
    {
      "cell_type": "code",
      "source": [
        "range_val6=list(range(0,-11,-1))\n",
        "print(range_val6)"
      ],
      "metadata": {
        "colab": {
          "base_uri": "https://localhost:8080/"
        },
        "id": "tunHdb5CVzoa",
        "outputId": "ab54d201-3178-4a5c-c87b-4c21948e67ba"
      },
      "execution_count": null,
      "outputs": [
        {
          "output_type": "stream",
          "name": "stdout",
          "text": [
            "[0, -1, -2, -3, -4, -5, -6, -7, -8, -9, -10]\n"
          ]
        }
      ]
    },
    {
      "cell_type": "markdown",
      "source": [
        "**SET**"
      ],
      "metadata": {
        "id": "VY4bbnBacgcJ"
      }
    },
    {
      "cell_type": "code",
      "source": [
        "set_1 = set((1,3,4,5))\n",
        "print(set_1)"
      ],
      "metadata": {
        "colab": {
          "base_uri": "https://localhost:8080/",
          "height": 158
        },
        "id": "IFui9E9pcizT",
        "outputId": "06bef076-f83e-460a-f850-68a187ac5693"
      },
      "execution_count": null,
      "outputs": [
        {
          "output_type": "error",
          "ename": "TypeError",
          "evalue": "'dict' object is not callable",
          "traceback": [
            "\u001b[0;31m---------------------------------------------------------------------------\u001b[0m",
            "\u001b[0;31mTypeError\u001b[0m                                 Traceback (most recent call last)",
            "\u001b[0;32m<ipython-input-36-d9eefbea17dc>\u001b[0m in \u001b[0;36m<cell line: 1>\u001b[0;34m()\u001b[0m\n\u001b[0;32m----> 1\u001b[0;31m \u001b[0mset_1\u001b[0m \u001b[0;34m=\u001b[0m \u001b[0mset\u001b[0m\u001b[0;34m(\u001b[0m\u001b[0;34m(\u001b[0m\u001b[0;36m1\u001b[0m\u001b[0;34m,\u001b[0m\u001b[0;36m3\u001b[0m\u001b[0;34m,\u001b[0m\u001b[0;36m4\u001b[0m\u001b[0;34m,\u001b[0m\u001b[0;36m5\u001b[0m\u001b[0;34m)\u001b[0m\u001b[0;34m)\u001b[0m\u001b[0;34m\u001b[0m\u001b[0;34m\u001b[0m\u001b[0m\n\u001b[0m\u001b[1;32m      2\u001b[0m \u001b[0mprint\u001b[0m\u001b[0;34m(\u001b[0m\u001b[0mset_1\u001b[0m\u001b[0;34m)\u001b[0m\u001b[0;34m\u001b[0m\u001b[0;34m\u001b[0m\u001b[0m\n",
            "\u001b[0;31mTypeError\u001b[0m: 'dict' object is not callable"
          ]
        }
      ]
    },
    {
      "cell_type": "code",
      "source": [
        "# prompt: write set operation in python\n",
        "\n",
        "# Set Operations\n",
        "\n",
        "set1 = {1, 2, 3}\n",
        "set2 = {3, 4, 5}\n",
        "\n",
        "# Union\n",
        "union_set = set1 | set2\n",
        "print(\"Union:\", union_set)  # Output: {1, 2, 3, 4, 5}\n",
        "\n",
        "# Intersection\n",
        "intersection_set = set1 & set2\n",
        "print(\"Intersection:\", intersection_set)  # Output: {3}\n",
        "\n",
        "# Difference\n",
        "difference_set = set1 - set2\n",
        "print(\"Difference (set1 - set2):\", difference_set)  # Output: {1, 2}\n",
        "\n",
        "difference_set2 = set2 - set1\n",
        "print(\"Difference (set2 - set1):\", difference_set2)  # Output: {4, 5}\n",
        "\n",
        "# Add and Remove\n",
        "set1.add(4)\n",
        "print(\"Set1 after adding 4:\", set1)  # Output: {1, 2, 3, 4}\n",
        "\n",
        "set1.remove(2)\n",
        "print(\"Set1 after removing 2:\", set1)  # Output: {1, 3, 4}\n"
      ],
      "metadata": {
        "colab": {
          "base_uri": "https://localhost:8080/"
        },
        "id": "ouApE8Y3Go-B",
        "outputId": "9d0e55a3-005f-4446-b35f-b6567521c3b6"
      },
      "execution_count": null,
      "outputs": [
        {
          "output_type": "stream",
          "name": "stdout",
          "text": [
            "Union: {1, 2, 3, 4, 5}\n",
            "Intersection: {3}\n",
            "Difference (set1 - set2): {1, 2}\n",
            "Difference (set2 - set1): {4, 5}\n",
            "Set1 after adding 4: {1, 2, 3, 4}\n",
            "Set1 after removing 2: {1, 3, 4}\n"
          ]
        }
      ]
    },
    {
      "cell_type": "code",
      "source": [
        "set_1={2,345.6,5,2,5,\"adff\"}\n",
        "print(set_1)\n",
        "# set is unordered so result will be in any sequence.\n",
        "# hence, Indexing is not applicable."
      ],
      "metadata": {
        "colab": {
          "base_uri": "https://localhost:8080/"
        },
        "id": "KTqAS9MBHHhA",
        "outputId": "0372dd08-3ffc-46ce-bb29-55e6be771f90"
      },
      "execution_count": null,
      "outputs": [
        {
          "output_type": "stream",
          "name": "stdout",
          "text": [
            "{345.6, 2, 'adff', 5}\n"
          ]
        }
      ]
    },
    {
      "cell_type": "code",
      "source": [
        "set_2 = {2,2.0}\n",
        "print(set_2)\n",
        "set_3={2.0,2}\n",
        "print(set_3)\n",
        "# whichever 1st duplicate value will be , printed.\n",
        "# means set contains unique va;ue only"
      ],
      "metadata": {
        "colab": {
          "base_uri": "https://localhost:8080/"
        },
        "id": "EmdRwGymHTL-",
        "outputId": "f448e5d6-f8b2-4b7b-f9ca-67597917e6ef"
      },
      "execution_count": null,
      "outputs": [
        {
          "output_type": "stream",
          "name": "stdout",
          "text": [
            "{2}\n",
            "{2.0}\n"
          ]
        }
      ]
    },
    {
      "cell_type": "code",
      "source": [
        "2==2.0\n"
      ],
      "metadata": {
        "colab": {
          "base_uri": "https://localhost:8080/"
        },
        "id": "c-RO7jE0H5yF",
        "outputId": "21a42f29-8c90-415f-97fc-133eca819d20"
      },
      "execution_count": null,
      "outputs": [
        {
          "output_type": "execute_result",
          "data": {
            "text/plain": [
              "True"
            ]
          },
          "metadata": {},
          "execution_count": 8
        }
      ]
    },
    {
      "cell_type": "code",
      "source": [
        "set_1.add('Dhara')\n",
        "print(set_1)"
      ],
      "metadata": {
        "colab": {
          "base_uri": "https://localhost:8080/"
        },
        "id": "0uMxAIZsIDa1",
        "outputId": "83011e44-d95a-44f5-da6e-56c1d6caa398"
      },
      "execution_count": null,
      "outputs": [
        {
          "output_type": "stream",
          "name": "stdout",
          "text": [
            "{2, 'adff', 'Dhara', 5, 345.6}\n"
          ]
        }
      ]
    },
    {
      "cell_type": "code",
      "source": [
        "false==0"
      ],
      "metadata": {
        "colab": {
          "base_uri": "https://localhost:8080/",
          "height": 141
        },
        "id": "nAbUKrG4JD5F",
        "outputId": "ba2bcfb1-4d2d-487c-88a2-51d2d1458a40"
      },
      "execution_count": null,
      "outputs": [
        {
          "output_type": "error",
          "ename": "NameError",
          "evalue": "name 'false' is not defined",
          "traceback": [
            "\u001b[0;31m---------------------------------------------------------------------------\u001b[0m",
            "\u001b[0;31mNameError\u001b[0m                                 Traceback (most recent call last)",
            "\u001b[0;32m<ipython-input-13-8245000c4a32>\u001b[0m in \u001b[0;36m<cell line: 1>\u001b[0;34m()\u001b[0m\n\u001b[0;32m----> 1\u001b[0;31m \u001b[0mfalse\u001b[0m\u001b[0;34m==\u001b[0m\u001b[0;36m0\u001b[0m\u001b[0;34m\u001b[0m\u001b[0;34m\u001b[0m\u001b[0m\n\u001b[0m",
            "\u001b[0;31mNameError\u001b[0m: name 'false' is not defined"
          ]
        }
      ]
    },
    {
      "cell_type": "code",
      "source": [
        "False==0"
      ],
      "metadata": {
        "colab": {
          "base_uri": "https://localhost:8080/"
        },
        "id": "kXjqBF51JKSG",
        "outputId": "52e644e0-1689-4b9e-c57e-bf659b5d941c"
      },
      "execution_count": null,
      "outputs": [
        {
          "output_type": "execute_result",
          "data": {
            "text/plain": [
              "True"
            ]
          },
          "metadata": {},
          "execution_count": 14
        }
      ]
    },
    {
      "cell_type": "code",
      "source": [
        "True==1\n"
      ],
      "metadata": {
        "colab": {
          "base_uri": "https://localhost:8080/"
        },
        "id": "4zExKJhdJMNr",
        "outputId": "9399b1cc-53f7-445c-f25a-d03a9434029d"
      },
      "execution_count": null,
      "outputs": [
        {
          "output_type": "execute_result",
          "data": {
            "text/plain": [
              "True"
            ]
          },
          "metadata": {},
          "execution_count": 15
        }
      ]
    },
    {
      "cell_type": "code",
      "source": [
        "set_4={2,345.6,True,False,5,2,5,\"adff\"}\n",
        "print(set_4)\n",
        "set_5={1,2,345.6,True,False,5,2,5,\"adff\"}  # here True==1 hence, only 1st duplicate will be printed which is 1\n",
        "print(set_5)\n",
        "set_6={2,345.6,True,False,5,2,0,5,\"adff\"}  # here False==0 so same as before. printed value 'False'\n",
        "print(set_6)\n",
        "set_7={0,1,2,345.6,True,False,5,2,5,\"adff\"}  # 0,1 will be printed\n",
        "print(set_7)\n",
        "set_8={2,345.6,True,False,5,2,1,0,5,\"adff\"}  # 0,1 will not be printed.\n",
        "print(set_8)\n",
        "# also when you try to add 0,1 to set which already have False True so it will not be added and sam goes for vice versa."
      ],
      "metadata": {
        "colab": {
          "base_uri": "https://localhost:8080/"
        },
        "id": "reGcFkfHJOkw",
        "outputId": "2586839c-b95c-4371-e919-d852ae5c2e12"
      },
      "execution_count": null,
      "outputs": [
        {
          "output_type": "stream",
          "name": "stdout",
          "text": [
            "{False, True, 2, 'adff', 5, 345.6}\n",
            "{False, 1, 2, 'adff', 5, 345.6}\n",
            "{False, True, 2, 'adff', 5, 345.6}\n",
            "{0, 1, 2, 'adff', 5, 345.6}\n",
            "{False, True, 2, 'adff', 5, 345.6}\n"
          ]
        }
      ]
    },
    {
      "cell_type": "code",
      "source": [
        "set_4[4]=\"Dharaa\""
      ],
      "metadata": {
        "colab": {
          "base_uri": "https://localhost:8080/",
          "height": 141
        },
        "id": "udcq4qJhKnHr",
        "outputId": "51452242-7328-44ae-8daf-a402e82a2fc9"
      },
      "execution_count": null,
      "outputs": [
        {
          "output_type": "error",
          "ename": "TypeError",
          "evalue": "'set' object does not support item assignment",
          "traceback": [
            "\u001b[0;31m---------------------------------------------------------------------------\u001b[0m",
            "\u001b[0;31mTypeError\u001b[0m                                 Traceback (most recent call last)",
            "\u001b[0;32m<ipython-input-23-13b20648c05a>\u001b[0m in \u001b[0;36m<cell line: 1>\u001b[0;34m()\u001b[0m\n\u001b[0;32m----> 1\u001b[0;31m \u001b[0mset_4\u001b[0m\u001b[0;34m[\u001b[0m\u001b[0;36m4\u001b[0m\u001b[0;34m]\u001b[0m\u001b[0;34m=\u001b[0m\u001b[0;34m\"Dharaa\"\u001b[0m\u001b[0;34m\u001b[0m\u001b[0;34m\u001b[0m\u001b[0m\n\u001b[0m",
            "\u001b[0;31mTypeError\u001b[0m: 'set' object does not support item assignment"
          ]
        }
      ]
    },
    {
      "cell_type": "code",
      "source": [
        "# set is mutable\n",
        "print(id(set_4))\n",
        "set_4.add(\"Dhara\")\n",
        "print(set_4)\n",
        "print(id(set_4))\n"
      ],
      "metadata": {
        "colab": {
          "base_uri": "https://localhost:8080/"
        },
        "id": "fxmYuUQxLfUn",
        "outputId": "fe32efa1-56e6-4611-ac1f-72de24f1f692"
      },
      "execution_count": null,
      "outputs": [
        {
          "output_type": "stream",
          "name": "stdout",
          "text": [
            "138363526461056\n",
            "{False, True, 2, 'adff', 'Dhara', 5, 345.6}\n",
            "138363526461056\n"
          ]
        }
      ]
    },
    {
      "cell_type": "code",
      "source": [
        "1==\"1\"\n",
        "# \"1\"--> string"
      ],
      "metadata": {
        "colab": {
          "base_uri": "https://localhost:8080/"
        },
        "id": "Ay0o-pQkMQFm",
        "outputId": "a03867e6-3059-4850-c80e-0e43b5cb2372"
      },
      "execution_count": null,
      "outputs": [
        {
          "output_type": "execute_result",
          "data": {
            "text/plain": [
              "False"
            ]
          },
          "metadata": {},
          "execution_count": 26
        }
      ]
    },
    {
      "cell_type": "code",
      "source": [
        "set_5.add(\"1\")\n",
        "set_5"
      ],
      "metadata": {
        "colab": {
          "base_uri": "https://localhost:8080/"
        },
        "id": "M7tl2iJDMYCW",
        "outputId": "38e421aa-10a6-409a-d55b-1ab815471851"
      },
      "execution_count": null,
      "outputs": [
        {
          "output_type": "execute_result",
          "data": {
            "text/plain": [
              "{1, '1', 2, 345.6, 5, False, 'adff'}"
            ]
          },
          "metadata": {},
          "execution_count": 28
        }
      ]
    },
    {
      "cell_type": "code",
      "source": [
        "set_4.add([55,5])\n",
        "set_4\n",
        "# can not add a list in set"
      ],
      "metadata": {
        "colab": {
          "base_uri": "https://localhost:8080/",
          "height": 176
        },
        "id": "kCk_FEsDMrba",
        "outputId": "41e31378-2c38-4311-f47e-35faba0edbbb"
      },
      "execution_count": null,
      "outputs": [
        {
          "output_type": "error",
          "ename": "TypeError",
          "evalue": "unhashable type: 'list'",
          "traceback": [
            "\u001b[0;31m---------------------------------------------------------------------------\u001b[0m",
            "\u001b[0;31mTypeError\u001b[0m                                 Traceback (most recent call last)",
            "\u001b[0;32m<ipython-input-31-1cd2792861e0>\u001b[0m in \u001b[0;36m<cell line: 1>\u001b[0;34m()\u001b[0m\n\u001b[0;32m----> 1\u001b[0;31m \u001b[0mset_4\u001b[0m\u001b[0;34m.\u001b[0m\u001b[0madd\u001b[0m\u001b[0;34m(\u001b[0m\u001b[0;34m[\u001b[0m\u001b[0;36m55\u001b[0m\u001b[0;34m,\u001b[0m\u001b[0;36m5\u001b[0m\u001b[0;34m]\u001b[0m\u001b[0;34m)\u001b[0m\u001b[0;34m\u001b[0m\u001b[0;34m\u001b[0m\u001b[0m\n\u001b[0m\u001b[1;32m      2\u001b[0m \u001b[0mset_4\u001b[0m\u001b[0;34m\u001b[0m\u001b[0;34m\u001b[0m\u001b[0m\n\u001b[1;32m      3\u001b[0m \u001b[0;31m# can not add a list in set\u001b[0m\u001b[0;34m\u001b[0m\u001b[0;34m\u001b[0m\u001b[0m\n",
            "\u001b[0;31mTypeError\u001b[0m: unhashable type: 'list'"
          ]
        }
      ]
    },
    {
      "cell_type": "code",
      "source": [],
      "metadata": {
        "id": "_c0AgslgOGGH"
      },
      "execution_count": null,
      "outputs": []
    },
    {
      "cell_type": "code",
      "source": [
        "set_4.add((55,5))\n",
        "set_4\n",
        "# can add a tuple to set"
      ],
      "metadata": {
        "colab": {
          "base_uri": "https://localhost:8080/"
        },
        "id": "Jt3flCOgMz78",
        "outputId": "8c279005-6f55-4768-974a-58d1b97e9661"
      },
      "execution_count": null,
      "outputs": [
        {
          "output_type": "execute_result",
          "data": {
            "text/plain": [
              "{(55, 5), '1', 2, 345.6, 5, 'Dhara', False, True, 'adff'}"
            ]
          },
          "metadata": {},
          "execution_count": 32
        }
      ]
    },
    {
      "cell_type": "code",
      "source": [
        "set_4.add({(55,5)})\n",
        "set_4\n",
        "# can not add set inside set"
      ],
      "metadata": {
        "colab": {
          "base_uri": "https://localhost:8080/",
          "height": 158
        },
        "id": "g9LbVBkzOJ2L",
        "outputId": "3606cbb7-23c1-4544-d41b-3d2eb745b73e"
      },
      "execution_count": null,
      "outputs": [
        {
          "output_type": "error",
          "ename": "TypeError",
          "evalue": "unhashable type: 'set'",
          "traceback": [
            "\u001b[0;31m---------------------------------------------------------------------------\u001b[0m",
            "\u001b[0;31mTypeError\u001b[0m                                 Traceback (most recent call last)",
            "\u001b[0;32m<ipython-input-33-f6c9e169258e>\u001b[0m in \u001b[0;36m<cell line: 1>\u001b[0;34m()\u001b[0m\n\u001b[0;32m----> 1\u001b[0;31m \u001b[0mset_4\u001b[0m\u001b[0;34m.\u001b[0m\u001b[0madd\u001b[0m\u001b[0;34m(\u001b[0m\u001b[0;34m{\u001b[0m\u001b[0;34m(\u001b[0m\u001b[0;36m55\u001b[0m\u001b[0;34m,\u001b[0m\u001b[0;36m5\u001b[0m\u001b[0;34m)\u001b[0m\u001b[0;34m}\u001b[0m\u001b[0;34m)\u001b[0m\u001b[0;34m\u001b[0m\u001b[0;34m\u001b[0m\u001b[0m\n\u001b[0m\u001b[1;32m      2\u001b[0m \u001b[0mset_4\u001b[0m\u001b[0;34m\u001b[0m\u001b[0;34m\u001b[0m\u001b[0m\n",
            "\u001b[0;31mTypeError\u001b[0m: unhashable type: 'set'"
          ]
        }
      ]
    },
    {
      "cell_type": "markdown",
      "source": [
        "**FROZEN SET**"
      ],
      "metadata": {
        "id": "Z4Lo4ADbPEMx"
      }
    },
    {
      "cell_type": "code",
      "source": [
        "# prompt: create frozenset in python\n",
        "\n",
        "frozen_set = frozenset([1, 2, 3, 4, 5])\n",
        "print(frozen_set)\n"
      ],
      "metadata": {
        "colab": {
          "base_uri": "https://localhost:8080/"
        },
        "id": "NcPeNJXsPDn1",
        "outputId": "93f0cf91-6dd2-4ef5-8be3-11588e5f40ff"
      },
      "execution_count": null,
      "outputs": [
        {
          "output_type": "stream",
          "name": "stdout",
          "text": [
            "frozenset({1, 2, 3, 4, 5})\n"
          ]
        }
      ]
    },
    {
      "cell_type": "code",
      "source": [
        "frozen_set.add(6)\n",
        "# frozenset is immutable--> so can not add/remove anything like tuple"
      ],
      "metadata": {
        "colab": {
          "base_uri": "https://localhost:8080/",
          "height": 158
        },
        "id": "t6P9fpPlPVyE",
        "outputId": "5029d93c-4c52-4628-9c6d-7dd84093a1b4"
      },
      "execution_count": null,
      "outputs": [
        {
          "output_type": "error",
          "ename": "AttributeError",
          "evalue": "'frozenset' object has no attribute 'add'",
          "traceback": [
            "\u001b[0;31m---------------------------------------------------------------------------\u001b[0m",
            "\u001b[0;31mAttributeError\u001b[0m                            Traceback (most recent call last)",
            "\u001b[0;32m<ipython-input-36-fc7c21563e2d>\u001b[0m in \u001b[0;36m<cell line: 1>\u001b[0;34m()\u001b[0m\n\u001b[0;32m----> 1\u001b[0;31m \u001b[0mfrozen_set\u001b[0m\u001b[0;34m.\u001b[0m\u001b[0madd\u001b[0m\u001b[0;34m(\u001b[0m\u001b[0;36m6\u001b[0m\u001b[0;34m)\u001b[0m\u001b[0;34m\u001b[0m\u001b[0;34m\u001b[0m\u001b[0m\n\u001b[0m\u001b[1;32m      2\u001b[0m \u001b[0;31m# frozenset is immutable--> so can not add/remove anything like tuple\u001b[0m\u001b[0;34m\u001b[0m\u001b[0;34m\u001b[0m\u001b[0m\n",
            "\u001b[0;31mAttributeError\u001b[0m: 'frozenset' object has no attribute 'add'"
          ]
        }
      ]
    },
    {
      "cell_type": "markdown",
      "source": [
        "**DICTIONARY**"
      ],
      "metadata": {
        "id": "R__237uhQDAf"
      }
    },
    {
      "cell_type": "code",
      "source": [
        "dict_1 ={}\n",
        "print(type(dict_1))\n",
        "dict_1 = {'a':23,'b':435,'c':'332',3:'trer'}\n",
        "print(dict_1)\n",
        "dict_1.update({4:'werg'})\n",
        "print(dict_1)\n",
        "dict_1.update({3:'werg'})   # it will update value of already existed key.\n",
        "print(dict_1)"
      ],
      "metadata": {
        "colab": {
          "base_uri": "https://localhost:8080/"
        },
        "id": "DcZZWpkIPid1",
        "outputId": "26a73be0-c4b1-4318-adcd-a6e2675637e1"
      },
      "execution_count": null,
      "outputs": [
        {
          "output_type": "stream",
          "name": "stdout",
          "text": [
            "<class 'dict'>\n",
            "{'a': 23, 'b': 435, 'c': '332', 3: 'trer'}\n",
            "{'a': 23, 'b': 435, 'c': '332', 3: 'trer', 4: 'werg'}\n",
            "{'a': 23, 'b': 435, 'c': '332', 3: 'werg', 4: 'werg'}\n"
          ]
        }
      ]
    },
    {
      "cell_type": "code",
      "source": [
        "dict_1['a']\n",
        "# can access key directly and return its value"
      ],
      "metadata": {
        "colab": {
          "base_uri": "https://localhost:8080/"
        },
        "id": "_omCL1SAVsTs",
        "outputId": "2dbf05dc-336b-4349-9494-5d09a38c85ed"
      },
      "execution_count": null,
      "outputs": [
        {
          "output_type": "execute_result",
          "data": {
            "text/plain": [
              "23"
            ]
          },
          "metadata": {},
          "execution_count": 43
        }
      ]
    },
    {
      "cell_type": "code",
      "source": [
        "dict_1['332']\n",
        "# can not access value directly"
      ],
      "metadata": {
        "colab": {
          "base_uri": "https://localhost:8080/",
          "height": 141
        },
        "id": "cTn07WGRV6gE",
        "outputId": "8db74481-7ad1-4ede-c9fc-a6ceede877e1"
      },
      "execution_count": null,
      "outputs": [
        {
          "output_type": "error",
          "ename": "KeyError",
          "evalue": "'332'",
          "traceback": [
            "\u001b[0;31m---------------------------------------------------------------------------\u001b[0m",
            "\u001b[0;31mKeyError\u001b[0m                                  Traceback (most recent call last)",
            "\u001b[0;32m<ipython-input-45-bcb0c3b21728>\u001b[0m in \u001b[0;36m<cell line: 1>\u001b[0;34m()\u001b[0m\n\u001b[0;32m----> 1\u001b[0;31m \u001b[0mdict_1\u001b[0m\u001b[0;34m[\u001b[0m\u001b[0;34m'332'\u001b[0m\u001b[0;34m]\u001b[0m\u001b[0;34m\u001b[0m\u001b[0;34m\u001b[0m\u001b[0m\n\u001b[0m",
            "\u001b[0;31mKeyError\u001b[0m: '332'"
          ]
        }
      ]
    },
    {
      "cell_type": "code",
      "source": [
        "dict_2 = {'a':23,'b':435,'c':'332',3:'trer','a':'Dhara'}\n",
        "print(dict_2)\n",
        "# it will remove duplicate and update with latest value"
      ],
      "metadata": {
        "colab": {
          "base_uri": "https://localhost:8080/"
        },
        "id": "ixg86-lkWp4f",
        "outputId": "598b8072-e33c-4214-f36b-55839a90a37a"
      },
      "execution_count": null,
      "outputs": [
        {
          "output_type": "stream",
          "name": "stdout",
          "text": [
            "{'a': 'Dhara', 'b': 435, 'c': '332', 3: 'trer'}\n"
          ]
        }
      ]
    },
    {
      "cell_type": "code",
      "source": [
        "dict_3 = {'a':[34,5,656],'b':[435,'erd']}\n",
        "print(dict_3)\n",
        "print(dict_3['a'][1])"
      ],
      "metadata": {
        "colab": {
          "base_uri": "https://localhost:8080/"
        },
        "id": "JwspZS03XL1e",
        "outputId": "a13ba5be-12c4-493d-a558-5eb1e06336b8"
      },
      "execution_count": null,
      "outputs": [
        {
          "output_type": "stream",
          "name": "stdout",
          "text": [
            "{'a': [34, 5, 656], 'b': [435, 'erd']}\n",
            "5\n"
          ]
        }
      ]
    },
    {
      "cell_type": "code",
      "source": [
        "dict_4 = {'a':(34,5,656),'b':(435,'erd')}\n",
        "print(dict_4)\n"
      ],
      "metadata": {
        "colab": {
          "base_uri": "https://localhost:8080/"
        },
        "id": "KNmgdMdKXkF3",
        "outputId": "96589d58-189e-4466-a340-33b62dbaf6c6"
      },
      "execution_count": null,
      "outputs": [
        {
          "output_type": "stream",
          "name": "stdout",
          "text": [
            "{'a': (34, 5, 656), 'b': (435, 'erd')}\n"
          ]
        }
      ]
    },
    {
      "cell_type": "code",
      "source": [
        "dict_5 = {[3,4]:[34,5,656],'b':[435,'erd']}\n",
        "print(dict_5)\n",
        "# can not use list,set,dictionary as key but can have as a value\n"
      ],
      "metadata": {
        "colab": {
          "base_uri": "https://localhost:8080/",
          "height": 158
        },
        "id": "0zEBulhDXxA1",
        "outputId": "4404fbce-b091-43d6-f993-66055ac950d2"
      },
      "execution_count": null,
      "outputs": [
        {
          "output_type": "error",
          "ename": "TypeError",
          "evalue": "unhashable type: 'list'",
          "traceback": [
            "\u001b[0;31m---------------------------------------------------------------------------\u001b[0m",
            "\u001b[0;31mTypeError\u001b[0m                                 Traceback (most recent call last)",
            "\u001b[0;32m<ipython-input-52-1f9e7db80d00>\u001b[0m in \u001b[0;36m<cell line: 1>\u001b[0;34m()\u001b[0m\n\u001b[0;32m----> 1\u001b[0;31m \u001b[0mdict_5\u001b[0m \u001b[0;34m=\u001b[0m \u001b[0;34m{\u001b[0m\u001b[0;34m[\u001b[0m\u001b[0;36m3\u001b[0m\u001b[0;34m,\u001b[0m\u001b[0;36m4\u001b[0m\u001b[0;34m]\u001b[0m\u001b[0;34m:\u001b[0m\u001b[0;34m[\u001b[0m\u001b[0;36m34\u001b[0m\u001b[0;34m,\u001b[0m\u001b[0;36m5\u001b[0m\u001b[0;34m,\u001b[0m\u001b[0;36m656\u001b[0m\u001b[0;34m]\u001b[0m\u001b[0;34m,\u001b[0m\u001b[0;34m'b'\u001b[0m\u001b[0;34m:\u001b[0m\u001b[0;34m[\u001b[0m\u001b[0;36m435\u001b[0m\u001b[0;34m,\u001b[0m\u001b[0;34m'erd'\u001b[0m\u001b[0;34m]\u001b[0m\u001b[0;34m}\u001b[0m\u001b[0;34m\u001b[0m\u001b[0;34m\u001b[0m\u001b[0m\n\u001b[0m\u001b[1;32m      2\u001b[0m \u001b[0mprint\u001b[0m\u001b[0;34m(\u001b[0m\u001b[0mdict_5\u001b[0m\u001b[0;34m)\u001b[0m\u001b[0;34m\u001b[0m\u001b[0;34m\u001b[0m\u001b[0m\n",
            "\u001b[0;31mTypeError\u001b[0m: unhashable type: 'list'"
          ]
        }
      ]
    },
    {
      "cell_type": "code",
      "source": [
        "dict_5 = {(3,4):[34,5,656],'b':[435,'erd']}\n",
        "print(dict_5)\n",
        "# TUPLE,FROZEN SET --> can be taken as a key and value both"
      ],
      "metadata": {
        "colab": {
          "base_uri": "https://localhost:8080/"
        },
        "id": "9H6wCtOJYlEM",
        "outputId": "a2e1e9e8-265b-4c53-fdb6-c12da2888f16"
      },
      "execution_count": null,
      "outputs": [
        {
          "output_type": "stream",
          "name": "stdout",
          "text": [
            "{(3, 4): [34, 5, 656], 'b': [435, 'erd']}\n"
          ]
        }
      ]
    },
    {
      "cell_type": "code",
      "source": [
        "dict_6 = {'a':23,'b':{'c':'332',3:'trer','a':'Dhara'}}\n",
        "print(dict_6)\n",
        "print(dict_6['b']['a'])\n",
        "print(dict_6['b'])"
      ],
      "metadata": {
        "colab": {
          "base_uri": "https://localhost:8080/"
        },
        "id": "5GtyYDv8ZIH7",
        "outputId": "1fdb6270-af82-4c9e-fcc3-1eef5367b323"
      },
      "execution_count": null,
      "outputs": [
        {
          "output_type": "stream",
          "name": "stdout",
          "text": [
            "{'a': 23, 'b': {'c': '332', 3: 'trer', 'a': 'Dhara'}}\n",
            "Dhara\n",
            "{'c': '332', 3: 'trer', 'a': 'Dhara'}\n"
          ]
        }
      ]
    },
    {
      "cell_type": "markdown",
      "source": [
        "**BOOLEAN**"
      ],
      "metadata": {
        "id": "zYCHG5JMaaHZ"
      }
    },
    {
      "cell_type": "code",
      "source": [
        "print(bool(False))\n",
        "print(bool(None))\n",
        "print(bool(0.0))\n",
        "print(bool(0))\n",
        "print(bool(\"\"))\n",
        "print(bool(()))\n",
        "print(bool([]))\n",
        "print(bool({}))"
      ],
      "metadata": {
        "colab": {
          "base_uri": "https://localhost:8080/"
        },
        "id": "gZ4cRvzaaelA",
        "outputId": "340bff38-e6dd-4107-c66f-1a901a7cf4f9"
      },
      "execution_count": null,
      "outputs": [
        {
          "output_type": "stream",
          "name": "stdout",
          "text": [
            "False\n",
            "False\n",
            "False\n",
            "False\n",
            "False\n",
            "False\n",
            "False\n",
            "False\n"
          ]
        }
      ]
    },
    {
      "cell_type": "code",
      "source": [
        "print(bool(True))\n",
        "print(bool(1))\n",
        "print(bool(\"DHARA\"))\n",
        "print(bool((23,3)))\n",
        "print(bool([43,'df']))\n",
        "print(bool({34,65}))"
      ],
      "metadata": {
        "colab": {
          "base_uri": "https://localhost:8080/"
        },
        "id": "iMjebygFaqWA",
        "outputId": "27716322-1ee9-4e15-d512-b8e6a46e4a3d"
      },
      "execution_count": null,
      "outputs": [
        {
          "output_type": "stream",
          "name": "stdout",
          "text": [
            "True\n",
            "True\n",
            "True\n",
            "True\n",
            "True\n",
            "True\n"
          ]
        }
      ]
    },
    {
      "cell_type": "code",
      "source": [
        "print(bool('0'))\n",
        "print(bool(' '))\n",
        "print(bool('False'))\n",
        "# here, 0, space, False is as string."
      ],
      "metadata": {
        "colab": {
          "base_uri": "https://localhost:8080/"
        },
        "id": "xwj-cnCUbB3v",
        "outputId": "261cba66-2f25-47e3-9faa-01523a43034f"
      },
      "execution_count": null,
      "outputs": [
        {
          "output_type": "stream",
          "name": "stdout",
          "text": [
            "True\n",
            "True\n",
            "True\n"
          ]
        }
      ]
    },
    {
      "cell_type": "code",
      "source": [
        "a = bool(False)\n",
        "b = bool(None)\n",
        "c = bool(0.0)\n",
        "d = bool(0)\n",
        "e = bool(\"\")\n",
        "f = bool(())\n",
        "g = bool([])\n",
        "h = bool({})\n",
        "print(id(a))\n",
        "print(id(b))\n",
        "print(id(c))\n",
        "print(id(d))\n",
        "print(id(e))\n",
        "print(id(f))\n",
        "print(id(g))\n",
        "print(id(h))\n",
        "#  all id will be same bcz its mean empty..\n",
        "# same goes for true"
      ],
      "metadata": {
        "colab": {
          "base_uri": "https://localhost:8080/"
        },
        "id": "BKlfWPX-bH0d",
        "outputId": "a084b2d1-e308-4ddf-db61-efed337b4ebe"
      },
      "execution_count": null,
      "outputs": [
        {
          "output_type": "stream",
          "name": "stdout",
          "text": [
            "97908448265216\n",
            "97908448265216\n",
            "97908448265216\n",
            "97908448265216\n",
            "97908448265216\n",
            "97908448265216\n",
            "97908448265216\n",
            "97908448265216\n"
          ]
        }
      ]
    },
    {
      "cell_type": "markdown",
      "source": [
        "**NONE**"
      ],
      "metadata": {
        "id": "3C2lY8eDcZLg"
      }
    },
    {
      "cell_type": "code",
      "source": [
        "a = None\n",
        "print(type(a))\n",
        "# this is used to check whether perticular value is updated or not"
      ],
      "metadata": {
        "colab": {
          "base_uri": "https://localhost:8080/"
        },
        "id": "2XqozAlqccE1",
        "outputId": "a2c027a4-3af5-4083-f8ae-43ed6b823572"
      },
      "execution_count": null,
      "outputs": [
        {
          "output_type": "stream",
          "name": "stdout",
          "text": [
            "<class 'NoneType'>\n"
          ]
        }
      ]
    },
    {
      "cell_type": "markdown",
      "source": [
        "**USER INPUT**"
      ],
      "metadata": {
        "id": "gFE2vhT-c039"
      }
    },
    {
      "cell_type": "code",
      "source": [
        "name = input(\"Enter your name: \")\n",
        "print(name)\n",
        "print(type(name))"
      ],
      "metadata": {
        "colab": {
          "base_uri": "https://localhost:8080/"
        },
        "id": "f50LUNQxcXz8",
        "outputId": "d40ec114-f490-4b01-95bc-9a066d414d6e"
      },
      "execution_count": null,
      "outputs": [
        {
          "output_type": "stream",
          "name": "stdout",
          "text": [
            "Enter your name: hbedhj\n",
            "hbedhj\n",
            "<class 'str'>\n"
          ]
        }
      ]
    },
    {
      "cell_type": "code",
      "source": [
        "name = input(\"Enter your name: \")\n",
        "print(name)\n",
        "print(type(name))\n",
        "# default value as 'str'"
      ],
      "metadata": {
        "colab": {
          "base_uri": "https://localhost:8080/"
        },
        "id": "yoK5IpRvdMU8",
        "outputId": "f1fb1002-ec6c-48bd-e7ac-d03101218352"
      },
      "execution_count": null,
      "outputs": [
        {
          "output_type": "stream",
          "name": "stdout",
          "text": [
            "Enter your name: 345\n",
            "345\n",
            "<class 'str'>\n"
          ]
        }
      ]
    },
    {
      "cell_type": "code",
      "source": [
        "a =int(input(\"Enter your age: \"))\n",
        "print(a)\n",
        "print(type(a))\n",
        "# here string input will be converted into integer"
      ],
      "metadata": {
        "colab": {
          "base_uri": "https://localhost:8080/"
        },
        "id": "zdtc9quAdiyH",
        "outputId": "9519d47f-2e1a-4ecc-d2eb-739711440ad5"
      },
      "execution_count": null,
      "outputs": [
        {
          "output_type": "stream",
          "name": "stdout",
          "text": [
            "Enter your age: 21\n",
            "21\n",
            "<class 'int'>\n"
          ]
        }
      ]
    }
  ]
}