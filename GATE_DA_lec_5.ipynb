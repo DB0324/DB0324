{
  "nbformat": 4,
  "nbformat_minor": 0,
  "metadata": {
    "colab": {
      "provenance": [],
      "authorship_tag": "ABX9TyO0qcZsMNMh3QuWnIAdzihu",
      "include_colab_link": true
    },
    "kernelspec": {
      "name": "python3",
      "display_name": "Python 3"
    },
    "language_info": {
      "name": "python"
    }
  },
  "cells": [
    {
      "cell_type": "markdown",
      "metadata": {
        "id": "view-in-github",
        "colab_type": "text"
      },
      "source": [
        "<a href=\"https://colab.research.google.com/github/DB0324/DB0324/blob/main/GATE_DA_lec_5.ipynb\" target=\"_parent\"><img src=\"https://colab.research.google.com/assets/colab-badge.svg\" alt=\"Open In Colab\"/></a>"
      ]
    },
    {
      "cell_type": "markdown",
      "source": [
        "**ASSIGNMENT OPERATOR**"
      ],
      "metadata": {
        "id": "rfzx6F8NzUe0"
      }
    },
    {
      "cell_type": "code",
      "source": [
        "a=32\n",
        "print(a)\n",
        "print(id(a))"
      ],
      "metadata": {
        "colab": {
          "base_uri": "https://localhost:8080/"
        },
        "id": "jDxW6OEuzcQR",
        "outputId": "358f367a-b63e-4f31-827a-57795a42bf02"
      },
      "execution_count": 4,
      "outputs": [
        {
          "output_type": "stream",
          "name": "stdout",
          "text": [
            "32\n",
            "139293528081616\n"
          ]
        }
      ]
    },
    {
      "cell_type": "code",
      "source": [
        "b=3\n",
        "a=b\n",
        "print(id(b))\n",
        "print(a)\n",
        "print(id(a))"
      ],
      "metadata": {
        "colab": {
          "base_uri": "https://localhost:8080/"
        },
        "id": "HZEaDKWnzva3",
        "outputId": "523fe077-3437-418b-e7c9-da54d267bc03"
      },
      "execution_count": 5,
      "outputs": [
        {
          "output_type": "stream",
          "name": "stdout",
          "text": [
            "139293528080688\n",
            "3\n",
            "139293528080688\n"
          ]
        }
      ]
    },
    {
      "cell_type": "code",
      "source": [
        "c=64\n",
        "c-=92\n",
        "print(c)"
      ],
      "metadata": {
        "colab": {
          "base_uri": "https://localhost:8080/"
        },
        "id": "acEDseEZ1W15",
        "outputId": "7c689168-4c2a-4e45-de18-70c3e5bb868b"
      },
      "execution_count": 7,
      "outputs": [
        {
          "output_type": "stream",
          "name": "stdout",
          "text": [
            "-28\n"
          ]
        }
      ]
    },
    {
      "cell_type": "code",
      "source": [
        "d=32\n",
        "d*=3\n",
        "print(d)"
      ],
      "metadata": {
        "colab": {
          "base_uri": "https://localhost:8080/"
        },
        "id": "q6TXVFib1oms",
        "outputId": "8080afbd-db36-442a-f961-30f59afa236f"
      },
      "execution_count": 8,
      "outputs": [
        {
          "output_type": "stream",
          "name": "stdout",
          "text": [
            "96\n"
          ]
        }
      ]
    },
    {
      "cell_type": "code",
      "source": [
        "e=324\n",
        "e/=7\n",
        "print(e)"
      ],
      "metadata": {
        "colab": {
          "base_uri": "https://localhost:8080/"
        },
        "id": "VPYRSa19164d",
        "outputId": "f0733f33-418f-4512-b787-883c487349aa"
      },
      "execution_count": 9,
      "outputs": [
        {
          "output_type": "stream",
          "name": "stdout",
          "text": [
            "46.285714285714285\n"
          ]
        }
      ]
    },
    {
      "cell_type": "code",
      "source": [
        "f=43\n",
        "f%=4\n",
        "print(f)\n",
        "g=23\n",
        "g//=3\n",
        "print(g)"
      ],
      "metadata": {
        "colab": {
          "base_uri": "https://localhost:8080/"
        },
        "id": "UTlTxYni2CyH",
        "outputId": "54f45aa7-d2da-4dc8-e638-13a7425cca89"
      },
      "execution_count": 11,
      "outputs": [
        {
          "output_type": "stream",
          "name": "stdout",
          "text": [
            "3\n",
            "7\n"
          ]
        }
      ]
    },
    {
      "cell_type": "markdown",
      "source": [
        "**BITWISE OPERATOR**"
      ],
      "metadata": {
        "id": "tpAMdZnA28_Q"
      }
    },
    {
      "cell_type": "code",
      "source": [
        "print(\"&\",14 & 21)\n",
        "print(\"|\",14 | 21)\n",
        "print(\"^ XOR\",14 ^ 21)\n",
        "print(\"negate -bitwise \",~14)\n",
        "print(\"<< BITWISE SHIFT LEFT\",14 << 2)\n",
        "print(\">>\",14 >> 2)"
      ],
      "metadata": {
        "colab": {
          "base_uri": "https://localhost:8080/"
        },
        "id": "ZwwdW2a63D9T",
        "outputId": "d5c935ac-dd07-4e7a-9e55-bf10676931dd"
      },
      "execution_count": 20,
      "outputs": [
        {
          "output_type": "stream",
          "name": "stdout",
          "text": [
            "& 4\n",
            "| 31\n",
            "^ XOR 27\n",
            "negate -bitwise -15\n",
            "<< BITWISE SHIFT LEFT 56\n",
            ">> 3\n"
          ]
        }
      ]
    },
    {
      "cell_type": "code",
      "source": [
        "print(bin(14))\n",
        "print(bin(21))"
      ],
      "metadata": {
        "colab": {
          "base_uri": "https://localhost:8080/"
        },
        "id": "-puqCaQs6Oju",
        "outputId": "4e891085-410e-45f4-9482-05bc6e3baeda"
      },
      "execution_count": 15,
      "outputs": [
        {
          "output_type": "stream",
          "name": "stdout",
          "text": [
            "0b1110\n",
            "0b10101\n"
          ]
        }
      ]
    },
    {
      "cell_type": "code",
      "source": [
        "~-23\n",
        "# ~n=-(n+1)\n",
        "# ~-n=-(-n+1)"
      ],
      "metadata": {
        "colab": {
          "base_uri": "https://localhost:8080/"
        },
        "id": "dh-JMypO-RQ4",
        "outputId": "ead9011b-41cb-4b84-a89b-c56e0d5a5b4e"
      },
      "execution_count": 24,
      "outputs": [
        {
          "output_type": "execute_result",
          "data": {
            "text/plain": [
              "22"
            ]
          },
          "metadata": {},
          "execution_count": 24
        }
      ]
    },
    {
      "cell_type": "code",
      "source": [
        "# left shift(<<)\n",
        "print(12 <<1)  #12 * 2\n",
        "print(12<<2)  #12*4\n",
        "print(12<<3)  #12 * 8\n",
        "print(12<<4)  # 12 * 16\n",
        "print(12<<5)  # 12 * 32\n",
        "# m<<n --> m*(2)^n"
      ],
      "metadata": {
        "colab": {
          "base_uri": "https://localhost:8080/"
        },
        "id": "3J3Zb_qg_ynp",
        "outputId": "51c1faa6-a591-475e-a677-5f680382d410"
      },
      "execution_count": 30,
      "outputs": [
        {
          "output_type": "stream",
          "name": "stdout",
          "text": [
            "24\n",
            "48\n",
            "96\n",
            "192\n",
            "384\n"
          ]
        }
      ]
    },
    {
      "cell_type": "code",
      "source": [
        "# right shift\n",
        "print(12 >>1)  #12 // 2\n",
        "print(12>>2)  #12//4\n",
        "print(12>>3)  #12//8\n",
        "print(12>>4)  # 12 //  16\n",
        "# m>> n  --> m // 2^k"
      ],
      "metadata": {
        "colab": {
          "base_uri": "https://localhost:8080/"
        },
        "id": "QmLsnfe-B0aM",
        "outputId": "fb8e0dc9-fea8-448a-88a5-8420263bb36e"
      },
      "execution_count": 31,
      "outputs": [
        {
          "output_type": "stream",
          "name": "stdout",
          "text": [
            "6\n",
            "3\n",
            "1\n",
            "0\n"
          ]
        }
      ]
    },
    {
      "cell_type": "markdown",
      "source": [
        "**MEMBERSHIP FUNCTION**"
      ],
      "metadata": {
        "id": "4hlko4mqDcDX"
      }
    },
    {
      "cell_type": "code",
      "source": [
        "a = [\"dhara\",\"omo\",\"hey theree\"]\n",
        "print('Dhara' in a)\n",
        "print('omo' not in a)\n",
        "# CASE SENSITIVE\n"
      ],
      "metadata": {
        "colab": {
          "base_uri": "https://localhost:8080/"
        },
        "id": "x0C2r53ADbHt",
        "outputId": "e78631aa-8584-4cf2-9770-8c2da761861f"
      },
      "execution_count": 34,
      "outputs": [
        {
          "output_type": "stream",
          "name": "stdout",
          "text": [
            "False\n",
            "False\n"
          ]
        }
      ]
    },
    {
      "cell_type": "code",
      "source": [
        "b=set((32,5,567,76))\n",
        "print(32 in b)\n",
        "print(\"32\" in b)  # \"32\" as a string\n",
        "print(32.0 in b)  #32=32.0 both are same"
      ],
      "metadata": {
        "colab": {
          "base_uri": "https://localhost:8080/"
        },
        "id": "FR91RWhdD4_z",
        "outputId": "e51f96f2-d808-42c8-ce31-9ea153861863"
      },
      "execution_count": 38,
      "outputs": [
        {
          "output_type": "stream",
          "name": "stdout",
          "text": [
            "True\n",
            "False\n",
            "True\n"
          ]
        }
      ]
    },
    {
      "cell_type": "code",
      "source": [
        "k = set()\n",
        "False in k"
      ],
      "metadata": {
        "colab": {
          "base_uri": "https://localhost:8080/"
        },
        "id": "7d4akR5zEo-u",
        "outputId": "419c76ed-b653-459b-afbc-98c5c07f834c"
      },
      "execution_count": 39,
      "outputs": [
        {
          "output_type": "execute_result",
          "data": {
            "text/plain": [
              "False"
            ]
          },
          "metadata": {},
          "execution_count": 39
        }
      ]
    },
    {
      "cell_type": "code",
      "source": [
        "True in k"
      ],
      "metadata": {
        "colab": {
          "base_uri": "https://localhost:8080/"
        },
        "id": "ApZhDQs_ExZ2",
        "outputId": "478c845b-b4e2-4724-d84e-07b6f039c01e"
      },
      "execution_count": 40,
      "outputs": [
        {
          "output_type": "execute_result",
          "data": {
            "text/plain": [
              "False"
            ]
          },
          "metadata": {},
          "execution_count": 40
        }
      ]
    },
    {
      "cell_type": "code",
      "source": [
        "st=\"hey there! hope you are doing your preparatio with lots of joy and without any problems.\"\n",
        "print('joy' in st)\n",
        "print(' problems' in st)\n",
        "print('  problems' in st)\n",
        "#  check substring"
      ],
      "metadata": {
        "colab": {
          "base_uri": "https://localhost:8080/"
        },
        "id": "L9zpnky2E6kY",
        "outputId": "f456a9bb-a6cb-46c0-e227-42a81f020f24"
      },
      "execution_count": 44,
      "outputs": [
        {
          "output_type": "stream",
          "name": "stdout",
          "text": [
            "True\n",
            "True\n",
            "False\n"
          ]
        }
      ]
    },
    {
      "cell_type": "code",
      "source": [
        "l1=[2,3,4,5]\n",
        "l2=[2,3,4,5]\n",
        "print(id(l1))\n",
        "print(id(l2))\n",
        "l3 =l1\n",
        "print(id(l3))\n",
        "print(l1 is l2)\n",
        "print(l1 is l3)\n",
        "print(l2 is l1)\n",
        "print(l3 is l1)\n",
        "print(l2 is not l1)"
      ],
      "metadata": {
        "colab": {
          "base_uri": "https://localhost:8080/"
        },
        "id": "XsoucGMXG0DJ",
        "outputId": "8eaa5d04-b368-4e31-88d0-890823957192"
      },
      "execution_count": 48,
      "outputs": [
        {
          "output_type": "stream",
          "name": "stdout",
          "text": [
            "139292243959104\n",
            "139292244185408\n",
            "139292243959104\n",
            "False\n",
            "True\n",
            "False\n",
            "True\n",
            "True\n"
          ]
        }
      ]
    },
    {
      "cell_type": "markdown",
      "source": [
        "# **OPERATOR PRECEDENCE**"
      ],
      "metadata": {
        "id": "5n9edxeZHogb"
      }
    },
    {
      "cell_type": "code",
      "source": [],
      "metadata": {
        "id": "yLfSubt0Hwe2"
      },
      "execution_count": null,
      "outputs": []
    }
  ]
}